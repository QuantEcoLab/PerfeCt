{
 "cells": [
  {
   "cell_type": "code",
   "execution_count": 1,
   "metadata": {},
   "outputs": [],
   "source": [
    "from perfect.perfect import perfect_sim\n",
    "from pathlib import Path\n",
    "import pandas as pd\n",
    "import numpy as np\n",
    "import matplotlib.pyplot as plt"
   ]
  },
  {
   "cell_type": "code",
   "execution_count": 2,
   "metadata": {},
   "outputs": [],
   "source": [
    "data_list = list(Path(\"/mnt/DataDisk/grid_time_series\").glob(\"*.csv\"))\n",
    "species_db = pd.read_csv(\"data/deb_species_list.csv\", index_col=0)\n",
    "\n",
    "species_mi = {}\n",
    "for i in species_db.iloc:\n",
    "    if not np.isnan(i[\"MarketWeight\"]) and not np.isnan(i[\"InitialSize\"]):\n",
    "        species_mi[i[\"Name\"]] = {\n",
    "            \"MarketWeight\": i[\"MarketWeight\"],\n",
    "            \"InitialSize\": i[\"InitialSize\"]\n",
    "        }\n"
   ]
  },
  {
   "cell_type": "code",
   "execution_count": 3,
   "metadata": {},
   "outputs": [],
   "source": [
    "species = \"Solea_solea\"  # Selection from dropdown menu\n",
    "data_file = data_list[0]   # Select functions by ID"
   ]
  },
  {
   "cell_type": "code",
   "execution_count": 4,
   "metadata": {},
   "outputs": [
    {
     "name": "stdout",
     "output_type": "stream",
     "text": [
      "Argyrosomus_regius\n",
      "Dentex_dentex\n",
      "Dicentrarchus_labrax\n"
     ]
    },
    {
     "name": "stderr",
     "output_type": "stream",
     "text": [
      "/home/domagoj/development/BlueCloudHackathon_i/deb/dydt_KDEB.py:47: RuntimeWarning: invalid value encountered in double_scalars\n",
      "  pX = f * p_XmT * V**(2/3)\n",
      "/home/domagoj/development/BlueCloudHackathon_i/deb/dydt_KDEB.py:51: RuntimeWarning: invalid value encountered in double_scalars\n",
      "  pT = p_TT * V**(2/3)\n",
      "/home/domagoj/development/BlueCloudHackathon_i/deb/dydt_KDEB.py:54: RuntimeWarning: invalid value encountered in double_scalars\n",
      "  pC = (E/V) * (p[\"E_G\"] * v_T * V**(2/3) + pS ) / (p[\"kap\"] * E/V + p[\"E_G\"])\n",
      "/home/domagoj/development/BlueCloudHackathon_i/deb/dydt_KDEB.py:71: RuntimeWarning: invalid value encountered in double_scalars\n",
      "  dF = V**(2/3)\n"
     ]
    },
    {
     "name": "stdout",
     "output_type": "stream",
     "text": [
      "Diplodus_puntazzo\n",
      "Gadus_morhua\n"
     ]
    },
    {
     "name": "stderr",
     "output_type": "stream",
     "text": [
      "/home/domagoj/development/BlueCloudHackathon_i/deb/dydt_KDEB.py:51: RuntimeWarning: invalid value encountered in double_scalars\n",
      "  pT = p_TT * V**(2/3)\n",
      "/home/domagoj/development/BlueCloudHackathon_i/deb/dydt_KDEB.py:54: RuntimeWarning: invalid value encountered in double_scalars\n",
      "  pC = (E/V) * (p[\"E_G\"] * v_T * V**(2/3) + pS ) / (p[\"kap\"] * E/V + p[\"E_G\"])\n",
      "/home/domagoj/development/BlueCloudHackathon_i/deb/dydt_KDEB.py:71: RuntimeWarning: invalid value encountered in double_scalars\n",
      "  dF = V**(2/3)\n",
      "/home/domagoj/development/BlueCloudHackathon_i/deb/dydt_KDEB.py:47: RuntimeWarning: invalid value encountered in double_scalars\n",
      "  pX = f * p_XmT * V**(2/3)\n"
     ]
    },
    {
     "name": "stdout",
     "output_type": "stream",
     "text": [
      "Lithognathus_mormyrus\n",
      "Oncorhynchus_mykiss\n"
     ]
    },
    {
     "name": "stderr",
     "output_type": "stream",
     "text": [
      "/home/domagoj/development/BlueCloudHackathon_i/deb/dydt_KDEB.py:47: RuntimeWarning: invalid value encountered in double_scalars\n",
      "  pX = f * p_XmT * V**(2/3)\n",
      "/home/domagoj/development/BlueCloudHackathon_i/deb/dydt_KDEB.py:51: RuntimeWarning: invalid value encountered in double_scalars\n",
      "  pT = p_TT * V**(2/3)\n",
      "/home/domagoj/development/BlueCloudHackathon_i/deb/dydt_KDEB.py:54: RuntimeWarning: invalid value encountered in double_scalars\n",
      "  pC = (E/V) * (p[\"E_G\"] * v_T * V**(2/3) + pS ) / (p[\"kap\"] * E/V + p[\"E_G\"])\n",
      "/home/domagoj/development/BlueCloudHackathon_i/deb/dydt_KDEB.py:71: RuntimeWarning: invalid value encountered in double_scalars\n",
      "  dF = V**(2/3)\n"
     ]
    },
    {
     "name": "stdout",
     "output_type": "stream",
     "text": [
      "Pagellus_erythrinus\n",
      "Polyprion_americanus\n"
     ]
    },
    {
     "name": "stderr",
     "output_type": "stream",
     "text": [
      "/home/domagoj/development/BlueCloudHackathon_i/deb/dydt_KDEB.py:51: RuntimeWarning: invalid value encountered in double_scalars\n",
      "  pT = p_TT * V**(2/3)\n",
      "/home/domagoj/development/BlueCloudHackathon_i/deb/dydt_KDEB.py:54: RuntimeWarning: invalid value encountered in double_scalars\n",
      "  pC = (E/V) * (p[\"E_G\"] * v_T * V**(2/3) + pS ) / (p[\"kap\"] * E/V + p[\"E_G\"])\n",
      "/home/domagoj/development/BlueCloudHackathon_i/deb/dydt_KDEB.py:71: RuntimeWarning: invalid value encountered in double_scalars\n",
      "  dF = V**(2/3)\n"
     ]
    },
    {
     "name": "stdout",
     "output_type": "stream",
     "text": [
      "Salmo_salar\n",
      "Salmo_trutta\n"
     ]
    },
    {
     "name": "stderr",
     "output_type": "stream",
     "text": [
      "/home/domagoj/development/BlueCloudHackathon_i/deb/dydt_KDEB.py:47: RuntimeWarning: invalid value encountered in double_scalars\n",
      "  pX = f * p_XmT * V**(2/3)\n",
      "/home/domagoj/development/BlueCloudHackathon_i/deb/dydt_KDEB.py:51: RuntimeWarning: invalid value encountered in double_scalars\n",
      "  pT = p_TT * V**(2/3)\n",
      "/home/domagoj/development/BlueCloudHackathon_i/deb/dydt_KDEB.py:54: RuntimeWarning: invalid value encountered in double_scalars\n",
      "  pC = (E/V) * (p[\"E_G\"] * v_T * V**(2/3) + pS ) / (p[\"kap\"] * E/V + p[\"E_G\"])\n",
      "/home/domagoj/development/BlueCloudHackathon_i/deb/dydt_KDEB.py:71: RuntimeWarning: invalid value encountered in double_scalars\n",
      "  dF = V**(2/3)\n"
     ]
    },
    {
     "name": "stdout",
     "output_type": "stream",
     "text": [
      "Scophthalmus_maximus\n"
     ]
    },
    {
     "name": "stderr",
     "output_type": "stream",
     "text": [
      "/home/domagoj/development/BlueCloudHackathon_i/deb/dydt_KDEB.py:51: RuntimeWarning: invalid value encountered in double_scalars\n",
      "  pT = p_TT * V**(2/3)\n",
      "/home/domagoj/development/BlueCloudHackathon_i/deb/dydt_KDEB.py:54: RuntimeWarning: invalid value encountered in double_scalars\n",
      "  pC = (E/V) * (p[\"E_G\"] * v_T * V**(2/3) + pS ) / (p[\"kap\"] * E/V + p[\"E_G\"])\n",
      "/home/domagoj/development/BlueCloudHackathon_i/deb/dydt_KDEB.py:71: RuntimeWarning: invalid value encountered in double_scalars\n",
      "  dF = V**(2/3)\n"
     ]
    },
    {
     "name": "stdout",
     "output_type": "stream",
     "text": [
      "Sparus_aurata\n",
      "Thunnus_thynnus\n"
     ]
    }
   ],
   "source": [
    "for i in species_mi:\n",
    "    print(i)\n",
    "    ttm45, ttm85, fcr45, fcr85 = perfect_sim(data_file, i, species_mi[i])"
   ]
  },
  {
   "cell_type": "code",
   "execution_count": null,
   "metadata": {},
   "outputs": [],
   "source": [
    "fig, ax = plt.subplots()\n",
    "ax.stem(ttm45-ttm45[0], bottom=0)\n",
    "ax.set_xlabel(\"Years\")\n",
    "ax.set_ylabel(\"Time to market weight [days]\")"
   ]
  },
  {
   "cell_type": "code",
   "execution_count": null,
   "metadata": {},
   "outputs": [],
   "source": [
    "fig, ax = plt.subplots()\n",
    "ax.stem(((fcr45/fcr45[0])-1)*100, bottom=0)\n",
    "ax.set_xlabel(\"Years\")\n",
    "ax.set_ylabel(\"Food conversion rate change [%]\")"
   ]
  },
  {
   "cell_type": "code",
   "execution_count": null,
   "metadata": {},
   "outputs": [],
   "source": []
  }
 ],
 "metadata": {
  "interpreter": {
   "hash": "c9dea729eb3ee4cd7f07f186621811e52425eecfcfe1e8159534b887007bd691"
  },
  "kernelspec": {
   "display_name": "Python 3.9.10 ('hackathon')",
   "language": "python",
   "name": "python3"
  },
  "language_info": {
   "codemirror_mode": {
    "name": "ipython",
    "version": 3
   },
   "file_extension": ".py",
   "mimetype": "text/x-python",
   "name": "python",
   "nbconvert_exporter": "python",
   "pygments_lexer": "ipython3",
   "version": "3.9.10"
  },
  "orig_nbformat": 4
 },
 "nbformat": 4,
 "nbformat_minor": 2
}

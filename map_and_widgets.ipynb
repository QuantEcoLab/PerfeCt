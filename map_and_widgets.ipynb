{
 "cells": [
  {
   "cell_type": "code",
   "execution_count": 22,
   "metadata": {},
   "outputs": [],
   "source": [
    "%matplotlib inline\n",
    "from ipyleaflet import *\n",
    "from ipywidgets import HTML, Layout, IntSlider, RadioButtons, Dropdown, Button, Output\n",
    "from IPython.display import display\n",
    "import numpy as np\n",
    "import matplotlib.pyplot as plt"
   ]
  },
  {
   "cell_type": "code",
   "execution_count": 2,
   "metadata": {},
   "outputs": [],
   "source": [
    "# Variable setup\n",
    "x, y = 0, 0\n",
    "dummy_num = 0\n"
   ]
  },
  {
   "cell_type": "code",
   "execution_count": 3,
   "metadata": {},
   "outputs": [],
   "source": [
    "# Map setup\n",
    "defaultLayout=Layout(width='1000px', height='800px')\n",
    "center=(35,20)\n",
    "m = Map(center=center,\n",
    "       #basemap=basemap_to_tiles(basemaps.NASAGIBS.ModisTerraTrueColorCR, \"2022-01-01\"),\n",
    "       basemap=basemaps.Gaode.Satellite,\n",
    "        zoom=4,\n",
    "       layout=defaultLayout)\n",
    "def handle_click(**kwargs):\n",
    "    if kwargs.get('type') == 'click':\n",
    "        #m.add_layer(Marker(location=kwargs.get('coordinates')))\n",
    "        #print(\"You clicked on: \", kwargs.get('coordinates'))\n",
    "        \n",
    "        global x\n",
    "        global y\n",
    "        global dummy_num\n",
    "        \n",
    "        x, y = kwargs.get('coordinates')\n",
    "        dummy_num += 1\n",
    "        message1 = HTML()\n",
    "        message1.value = f\"Coordinates: ({np.round(x,2)}, {np.round(y,2)}) <br> Aquaculture name: XY <br> Number: {dummy_num}\"\n",
    "        popup = Popup(\n",
    "            location=(x, y),\n",
    "            child=message1,\n",
    "            close_button=True,\n",
    "            auto_close=True,\n",
    "            close_on_escape_key=True,\n",
    "            max_width = 400,\n",
    "            name = \"Location info\"\n",
    "        )\n",
    "        m.add_layer(popup)\n",
    "\n",
    "m.on_interaction(handle_click)"
   ]
  },
  {
   "cell_type": "code",
   "execution_count": 4,
   "metadata": {},
   "outputs": [
    {
     "data": {
      "application/vnd.jupyter.widget-view+json": {
       "model_id": "b7b950d2326742b2867c1ee656ee2dc9",
       "version_major": 2,
       "version_minor": 0
      },
      "text/plain": [
       "Map(center=[35, 20], controls=(ZoomControl(options=['position', 'zoom_in_text', 'zoom_in_title', 'zoom_out_tex…"
      ]
     },
     "metadata": {},
     "output_type": "display_data"
    }
   ],
   "source": [
    "# Display map\n",
    "m"
   ]
  },
  {
   "cell_type": "code",
   "execution_count": 27,
   "metadata": {},
   "outputs": [
    {
     "data": {
      "application/vnd.jupyter.widget-view+json": {
       "model_id": "fd5d48f3871b4bf68dd2577396d24502",
       "version_major": 2,
       "version_minor": 0
      },
      "text/plain": [
       "RadioButtons(description='Choose a species!', options=('species 1', 'species 2', 'species 3'), value='species …"
      ]
     },
     "metadata": {},
     "output_type": "display_data"
    },
    {
     "data": {
      "application/vnd.jupyter.widget-view+json": {
       "model_id": "02249b08e1a447049e40894b5681ceed",
       "version_major": 2,
       "version_minor": 0
      },
      "text/plain": [
       "Button(description='Simulate!', style=ButtonStyle())"
      ]
     },
     "metadata": {},
     "output_type": "display_data"
    }
   ],
   "source": [
    "# Print results\n",
    "radios = RadioButtons(options=[\"species 1\", \"species 2\", \"species 3\"],\n",
    "    description=\"Choose a species!\",\n",
    "    disabled=False\n",
    ")\n",
    "\n",
    "display(radios)\n",
    "\n",
    "btn = Button(description=\"Simulate!\")\n",
    "out = Output()\n",
    "\n",
    "\n",
    "def on_button_clicked(obj):\n",
    "    plt.scatter(np.linspace(0,10), np.linspace(0,10))\n",
    "    plt.show()\n",
    "\n",
    "btn.on_click(on_button_clicked)\n",
    "\n",
    "display(btn)"
   ]
  },
  {
   "cell_type": "code",
   "execution_count": null,
   "metadata": {},
   "outputs": [],
   "source": []
  }
 ],
 "metadata": {
  "interpreter": {
   "hash": "b5671af813dc635b53a67f2e3d4efe0f95e539175588edebabe695289baa8ebd"
  },
  "kernelspec": {
   "display_name": "Python 3.9.7 64-bit ('hackathon': conda)",
   "language": "python",
   "name": "python3"
  },
  "language_info": {
   "codemirror_mode": {
    "name": "ipython",
    "version": 3
   },
   "file_extension": ".py",
   "mimetype": "text/x-python",
   "name": "python",
   "nbconvert_exporter": "python",
   "pygments_lexer": "ipython3",
   "version": "3.9.7"
  },
  "orig_nbformat": 4
 },
 "nbformat": 4,
 "nbformat_minor": 2
}

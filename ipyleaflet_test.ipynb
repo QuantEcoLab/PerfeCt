{
 "cells": [
  {
   "cell_type": "markdown",
   "metadata": {},
   "source": [
    "To run this code, set up a conda environment as follows:\n",
    "\n",
    "```\n",
    "conda create --name hackathon  \n",
    "conda activate hackathon  \n",
    "conda install python=3.9  \n",
    "conda install -c conda-forge ipyleaflet jupyterlab netCDF4 matplotlib  \n",
    "```\n",
    "\n",
    "If you wish to run it from Jupyter Lab, run the following lines in the BlueCloudHackathon_i folder:\n",
    "\n",
    "```\n",
    "conda activate hackathon  \n",
    "jupyter lab\n",
    "```\n",
    "\n",
    "(Jupyter Lab will start in your browser)"
   ]
  },
  {
   "cell_type": "code",
   "execution_count": 1,
   "metadata": {},
   "outputs": [],
   "source": [
    "from ipyleaflet import * # Map, basemaps, ImageOverlay, LayersControl, Popup\n",
    "from ipywidgets import HTML, Layout, SelectionSlider, RadioButtons\n",
    "import netCDF4 as nc\n",
    "import matplotlib.pyplot as plt\n",
    "import numpy as np"
   ]
  },
  {
   "cell_type": "code",
   "execution_count": 2,
   "metadata": {},
   "outputs": [],
   "source": [
    "layer1_p = \"data//00483_25794_00001.nc\"\n",
    "# layer1_p = \"../Blue-Cloud Data Pool/MED-mixed_layer_depth-483/download_1/00483_25794_00001.nc\"\n",
    "layer1_d = nc.Dataset(layer1_p)\n",
    "#for var in layer1_d.variables.values():\n",
    "#for var in layer1_d.variables:\n",
    "#    print(var)"
   ]
  },
  {
   "cell_type": "code",
   "execution_count": 3,
   "metadata": {},
   "outputs": [
    {
     "name": "stdout",
     "output_type": "stream",
     "text": [
      "(129, 367)\n",
      "(367,)\n",
      "(129,)\n"
     ]
    }
   ],
   "source": [
    "data_dummy = np.array(layer1_d[\"Mixed_Layer_Depth\"][0, :, :], dtype=np.float64)\n",
    "data_dummy[data_dummy>1e+30] = np.nan #because it is a masked array\n",
    "\n",
    "lons = np.array(layer1_d[\"lon\"][:], dtype=np.float64)\n",
    "lats = np.array(layer1_d[\"lat\"][:], dtype=np.float64)\n",
    "\n",
    "print(data_dummy.shape)\n",
    "print(lons.shape)\n",
    "print(lats.shape)\n",
    "#print(\"Lons: \", lons)\n",
    "#print(\"Lats: \", lats)"
   ]
  },
  {
   "cell_type": "code",
   "execution_count": 4,
   "metadata": {},
   "outputs": [
    {
     "data": {
      "image/png": "[encoded data removed]",
      "text/plain": [
       "<Figure size 432x288 with 1 Axes>"
      ]
     },
     "metadata": {
      "needs_background": "light"
     },
     "output_type": "display_data"
    }
   ],
   "source": [
    "plt.imshow(data_dummy, origin=\"lower\")\n",
    "plt.imsave(fname=\"data_dummy1.png\", arr=np.flipud(data_dummy), \n",
    "    vmin=np.nanmin(data_dummy), vmax=np.nanmax(data_dummy), \n",
    "    dpi=150, cmap=\"viridis\")\n",
    "plt.imsave(fname=\"data_dummy2.png\", arr=np.flipud(data_dummy), \n",
    "    vmin=np.nanmin(data_dummy), vmax=np.nanmax(data_dummy), \n",
    "    dpi=150, cmap=\"magma\")\n",
    "plt.imsave(fname=\"data_dummy3.png\", arr=np.flipud(data_dummy), \n",
    "    vmin=np.nanmin(data_dummy), vmax=np.nanmax(data_dummy), \n",
    "    dpi=150, cmap=\"Blues\")"
   ]
  },
  {
   "cell_type": "code",
   "execution_count": 5,
   "metadata": {},
   "outputs": [],
   "source": [
    "defaultLayout=Layout(width='1000px', height='800px')\n",
    "center=(35,20)\n",
    "m = Map(center=center,\n",
    "       #basemap=basemap_to_tiles(basemaps.NASAGIBS.ModisTerraTrueColorCR, \"2022-01-01\"),\n",
    "       basemap=basemaps.Gaode.Satellite,\n",
    "        zoom=4,\n",
    "       layout=defaultLayout)\n",
    "image1 = ImageOverlay(\n",
    "    url=\"data_dummy1.png\",\n",
    "    bounds=((np.min(lats), np.min(lons)), (np.max(lats), np.max(lons))),\n",
    "    name=\"viridis\"\n",
    ")\n",
    "image2 = ImageOverlay(\n",
    "    url=\"data_dummy2.png\",\n",
    "    bounds=((np.min(lats), np.min(lons)), (np.max(lats), np.max(lons))),\n",
    "    name=\"magma\"\n",
    ")\n",
    "image3 = ImageOverlay(\n",
    "    url=\"data_dummy3.png\",\n",
    "    bounds=((np.min(lats), np.min(lons)), (np.max(lats), np.max(lons))),\n",
    "    name=\"Blues\"\n",
    ")\n",
    "\n",
    "m.add_layer(image1)\n",
    "m.add_layer(image2)\n",
    "m.add_layer(image3)\n",
    "\n",
    "control = LayersControl(position='topright')\n",
    "m.add_control(control)\n",
    "\n",
    "#marker = Marker(location=center, draggable=True)\n",
    "#m.add_layer(marker)"
   ]
  },
  {
   "cell_type": "code",
   "execution_count": 6,
   "metadata": {},
   "outputs": [],
   "source": [
    "def handle_click(**kwargs):\n",
    "    if kwargs.get('type') == 'click':\n",
    "        #m.add_layer(Marker(location=kwargs.get('coordinates')))\n",
    "        #print(\"You clicked on: \", kwargs.get('coordinates'))\n",
    "        \n",
    "        x, y = kwargs.get('coordinates')\n",
    "        idx = (np.abs(lats-x)).argmin()\n",
    "        idy = (np.abs(lons-y)).argmin()\n",
    "        #print(idx, idy)\n",
    "        val_mixed_layer_depth = data_dummy[idx,idy]\n",
    "        #print(\"Mixed layer depth: \", val_mixed_layer_depth)\n",
    "        message1 = HTML()\n",
    "        message1.value = f\"Coordinates: ({np.round(x,2)}, {np.round(y,2)}) <br> Mixed layer depth: {np.round(val_mixed_layer_depth, 2)} m <br> <img src='dummy-graph.png' width='400'/>\"\n",
    "        # message1.value = f\"Coordinates: ({np.round(x,2)}, {np.round(y,2)}) <br> Mixed layer depth: {np.round(val_mixed_layer_depth, 2)} m <br> <img src='/user/tamaradjerdj/files/workspace/ipyleaflet_test/dummy-graph.png' width='400'/>\"\n",
    "        popup = Popup(\n",
    "            location=(x, y),\n",
    "            child=message1,\n",
    "            close_button=True,\n",
    "            auto_close=True,\n",
    "            close_on_escape_key=True,\n",
    "            max_width = 400,\n",
    "            name = \"Location info\"\n",
    "        )\n",
    "        m.add_layer(popup)\n",
    "\n",
    "m.on_interaction(handle_click)"
   ]
  },
  {
   "cell_type": "code",
   "execution_count": 7,
   "metadata": {},
   "outputs": [
    {
     "data": {
      "application/vnd.jupyter.widget-view+json": {
       "model_id": "470f1426b30a4d56b47ee36e1d3da47b",
       "version_major": 2,
       "version_minor": 0
      },
      "text/plain": [
       "Map(center=[35, 20], controls=(ZoomControl(options=['position', 'zoom_in_text', 'zoom_in_title', 'zoom_out_tex…"
      ]
     },
     "metadata": {},
     "output_type": "display_data"
    }
   ],
   "source": [
    "m"
   ]
  },
  {
   "cell_type": "code",
   "execution_count": null,
   "metadata": {},
   "outputs": [],
   "source": []
  }
 ],
 "metadata": {
  "interpreter": {
   "hash": "b5671af813dc635b53a67f2e3d4efe0f95e539175588edebabe695289baa8ebd"
  },
  "kernelspec": {
   "display_name": "Python 3",
   "language": "python",
   "name": "python3"
  },
  "language_info": {
   "codemirror_mode": {
    "name": "ipython",
    "version": 3
   },
   "file_extension": ".py",
   "mimetype": "text/x-python",
   "name": "python",
   "nbconvert_exporter": "python",
   "pygments_lexer": "ipython3",
   "version": "3.9.7"
  }
 },
 "nbformat": 4,
 "nbformat_minor": 4
}

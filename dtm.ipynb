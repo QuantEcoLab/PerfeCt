{
 "cells": [
  {
   "cell_type": "code",
   "execution_count": 1,
   "metadata": {},
   "outputs": [],
   "source": [
    "from deb.simulations import simulate_deb, aux, plot_res, allStat\n",
    "import pandas as pd\n",
    "import numpy as np\n",
    "from pathlib import Path"
   ]
  },
  {
   "cell_type": "code",
   "execution_count": 2,
   "metadata": {},
   "outputs": [],
   "source": [
    "data_list = list(Path(\"/mnt/DataDisk/grid_time_series\").glob(\"*.csv\"))"
   ]
  },
  {
   "cell_type": "code",
   "execution_count": 3,
   "metadata": {},
   "outputs": [
    {
     "name": "stdout",
     "output_type": "stream",
     "text": [
      "Argyrosomus_regius\n",
      "Dentex_dentex\n",
      "Dicentrarchus_labrax\n",
      "Diplodus_puntazzo\n",
      "Gadus_morhua\n",
      "Lithognathus_mormyrus\n",
      "Oncorhynchus_mykiss\n",
      "Pagellus_erythrinus\n",
      "Polyprion_americanus\n",
      "Salmo_salar\n",
      "Salmo_trutta\n",
      "Scophthalmus_maximus\n",
      "Solea_solea\n",
      "Sparus_aurata\n",
      "Thunnus_thynnus\n"
     ]
    }
   ],
   "source": [
    "\n",
    "species_db = pd.read_csv(\"data/deb_species_list.csv\", index_col=0)\n",
    "species_mi = {}\n",
    "for i in species_db.iloc:\n",
    "    if not np.isnan(i[\"MarketWeight\"]) and not np.isnan(i[\"InitialSize\"]):\n",
    "        species_mi[i[\"Name\"]] = {\n",
    "            \"MarketWeight\": i[\"MarketWeight\"],\n",
    "            \"InitialSize\": i[\"InitialSize\"]\n",
    "        }\n",
    "\n",
    "\n",
    "for i in species_mi:\n",
    "    print(i)\n",
    "\n",
    "species = \"Sparus_aurata\""
   ]
  },
  {
   "cell_type": "code",
   "execution_count": 4,
   "metadata": {},
   "outputs": [
    {
     "data": {
      "text/plain": [
       "{'MarketWeight': 400.0, 'InitialSize': 1.2}"
      ]
     },
     "execution_count": 4,
     "metadata": {},
     "output_type": "execute_result"
    }
   ],
   "source": [
    "mi_data = species_mi[species]\n",
    "mi_data"
   ]
  },
  {
   "cell_type": "code",
   "execution_count": 12,
   "metadata": {},
   "outputs": [],
   "source": [
    "data_file = data_list[0].name\n",
    "\n",
    "\n",
    "\n",
    "data = pd.read_csv(data_list[0], index_col=0)\n",
    "\n",
    "ttm45 = []\n",
    "ttm85 = []\n",
    "ttmref = []\n",
    "\n",
    "for i in np.arange(0, len(data) - len(data)%365 -365, 365):\n",
    "    inputs45 = np.vstack(\n",
    "        (data.index.values+1, data[\"rcp4_5\"].values+273.15)).T[i:i+365*5]\n",
    "\n",
    "    res45 = simulate_deb(species, inputs45, initial_size=mi_data[\"InitialSize\"])\n",
    "    # print(res45[0.85][2])\n",
    "\n",
    "    TTM = np.where(res45[0.85][2] >= mi_data[\"MarketWeight\"])[0]\n",
    "\n",
    "    ttm45.append(TTM[0])\n",
    "\n",
    "    inputs85 = np.vstack(\n",
    "    (data.index.values+1, data[\"rcp4_5\"].values+273.15)).T[i:i+365*5]\n",
    "\n",
    "    res85 = simulate_deb(species, inputs85, initial_size=mi_data[\"InitialSize\"])\n",
    "    # print(res45[0.85][2])\n",
    "\n",
    "    TTM = np.where(res85[0.85][2] >= mi_data[\"MarketWeight\"])[0]\n",
    "\n",
    "    ttm45.append(TTM[0])\n",
    "\n",
    "\n",
    "    \n",
    "\n",
    "\n",
    "\n"
   ]
  },
  {
   "cell_type": "code",
   "execution_count": 6,
   "metadata": {},
   "outputs": [],
   "source": [
    "import matplotlib.pyplot as plt"
   ]
  },
  {
   "cell_type": "code",
   "execution_count": 11,
   "metadata": {},
   "outputs": [
    {
     "data": {
      "text/plain": [
       "Text(0, 0.5, 'Time to market weight [days]')"
      ]
     },
     "execution_count": 11,
     "metadata": {},
     "output_type": "execute_result"
    },
    {
     "data": {
      "image/png": "[encoded data removed]",
      "text/plain": [
       "<Figure size 432x288 with 1 Axes>"
      ]
     },
     "metadata": {
      "needs_background": "light"
     },
     "output_type": "display_data"
    }
   ],
   "source": [
    "fig, ax = plt.subplots()\n",
    "# ax.plot(np.arange(2021, 2021+len(rcp45), 1), rcp45, color=colors)\n",
    "# ax.plot(np.arange(2021, 2021+len(rcp45), 1), rcp45, \"*-\")\n",
    "ax.stem(ttm45, bottom=ttm45[0])\n",
    "ax.set_xlabel(\"Years\")\n",
    "ax.set_ylabel(\"Time to market weight [days]\")"
   ]
  },
  {
   "cell_type": "code",
   "execution_count": null,
   "metadata": {},
   "outputs": [],
   "source": [
    "\n"
   ]
  }
 ],
 "metadata": {
  "interpreter": {
   "hash": "c9dea729eb3ee4cd7f07f186621811e52425eecfcfe1e8159534b887007bd691"
  },
  "kernelspec": {
   "display_name": "Python 3.9.10 ('hackathon')",
   "language": "python",
   "name": "python3"
  },
  "language_info": {
   "codemirror_mode": {
    "name": "ipython",
    "version": 3
   },
   "file_extension": ".py",
   "mimetype": "text/x-python",
   "name": "python",
   "nbconvert_exporter": "python",
   "pygments_lexer": "ipython3",
   "version": "3.9.10"
  },
  "orig_nbformat": 4
 },
 "nbformat": 4,
 "nbformat_minor": 2
}

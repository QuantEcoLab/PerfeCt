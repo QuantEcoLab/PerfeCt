{
 "cells": [
  {
   "cell_type": "code",
   "execution_count": 1,
   "metadata": {},
   "outputs": [],
   "source": [
    "from deb.simulations import simulate_deb, plot_res, aux, allStat\n",
    "import pandas as pd"
   ]
  },
  {
   "cell_type": "code",
   "execution_count": 2,
   "metadata": {},
   "outputs": [
    {
     "ename": "TypeError",
     "evalue": "string indices must be integers",
     "output_type": "error",
     "traceback": [
      "\u001b[0;31m---------------------------------------------------------------------------\u001b[0m",
      "\u001b[0;31mTypeError\u001b[0m                                 Traceback (most recent call last)",
      "\u001b[1;32m/home/domagoj/development/BlueCloudHackathon_i/deb_notebook.ipynb Cell 2'\u001b[0m in \u001b[0;36m<module>\u001b[0;34m\u001b[0m\n\u001b[1;32m      <a href='vscode-notebook-cell:/home/domagoj/development/BlueCloudHackathon_i/deb_notebook.ipynb#ch0000001?line=0'>1</a>\u001b[0m species \u001b[39m=\u001b[39m \u001b[39m\"\u001b[39m\u001b[39mSparus_aurata\u001b[39m\u001b[39m\"\u001b[39m\n\u001b[1;32m      <a href='vscode-notebook-cell:/home/domagoj/development/BlueCloudHackathon_i/deb_notebook.ipynb#ch0000001?line=1'>2</a>\u001b[0m location \u001b[39m=\u001b[39m \u001b[39m\"\u001b[39m\u001b[39mTemp_Vrgada.csv\u001b[39m\u001b[39m\"\u001b[39m\n\u001b[0;32m----> <a href='vscode-notebook-cell:/home/domagoj/development/BlueCloudHackathon_i/deb_notebook.ipynb#ch0000001?line=2'>3</a>\u001b[0m f_rez \u001b[39m=\u001b[39m simulate_deb(species, location, initial_size \u001b[39m=\u001b[39;49m \u001b[39m1\u001b[39;49m)\n",
      "File \u001b[0;32m~/development/BlueCloudHackathon_i/deb/simulations.py:57\u001b[0m, in \u001b[0;36msimulate_deb\u001b[0;34m(species, location, fArr, initial_size, allStat)\u001b[0m\n\u001b[1;32m     <a href='file:///~/development/BlueCloudHackathon_i/deb/simulations.py?line=54'>55</a>\u001b[0m \u001b[39m# f = feeding\u001b[39;00m\n\u001b[1;32m     <a href='file:///~/development/BlueCloudHackathon_i/deb/simulations.py?line=55'>56</a>\u001b[0m aux[\u001b[39m\"\u001b[39m\u001b[39mf\u001b[39m\u001b[39m\"\u001b[39m] \u001b[39m=\u001b[39m f\n\u001b[0;32m---> <a href='file:///~/development/BlueCloudHackathon_i/deb/simulations.py?line=56'>57</a>\u001b[0m tArr \u001b[39m=\u001b[39m aux[\u001b[39m\"\u001b[39;49m\u001b[39mtT\u001b[39;49m\u001b[39m\"\u001b[39;49m][:, \u001b[39m0\u001b[39;49m]\n\u001b[1;32m     <a href='file:///~/development/BlueCloudHackathon_i/deb/simulations.py?line=57'>58</a>\u001b[0m aux[\u001b[39m\"\u001b[39m\u001b[39mtArr\u001b[39m\u001b[39m\"\u001b[39m] \u001b[39m=\u001b[39m tArr\n\u001b[1;32m     <a href='file:///~/development/BlueCloudHackathon_i/deb/simulations.py?line=58'>59</a>\u001b[0m aux[\u001b[39m\"\u001b[39m\u001b[39minit_L\u001b[39m\u001b[39m\"\u001b[39m] \u001b[39m=\u001b[39m initial_size\n",
      "\u001b[0;31mTypeError\u001b[0m: string indices must be integers"
     ]
    }
   ],
   "source": [
    "species = \"Sparus_aurata\"\n",
    "location = \"Temp_Vrgada.csv\"\n",
    "f_rez = simulate_deb(species, location, initial_size = 1)"
   ]
  },
  {
   "cell_type": "code",
   "execution_count": null,
   "metadata": {},
   "outputs": [],
   "source": [
    "plot_res(f_rez, species, location, aux)"
   ]
  },
  {
   "cell_type": "code",
   "execution_count": null,
   "metadata": {},
   "outputs": [],
   "source": [
    "species = pd.read_csv(\"data/species_list_hrv.csv\", index_col=0)\n",
    "species"
   ]
  },
  {
   "cell_type": "code",
   "execution_count": null,
   "metadata": {},
   "outputs": [],
   "source": [
    "for i in species[\"species\"]:\n",
    "    sp = i.replace(\" \", \"_\")\n",
    "    try:\n",
    "        allStat[sp]\n",
    "    except KeyError:\n",
    "        print(sp)"
   ]
  },
  {
   "cell_type": "markdown",
   "metadata": {},
   "source": [
    "Vrste kojih nema u `allStat` varijabli\n",
    "\n",
    "- Zlatni cipal\n",
    "- Cipal balavac\n",
    "- Ušata\n",
    "- Pagara \n",
    "- List\n",
    "- Koraf"
   ]
  },
  {
   "cell_type": "code",
   "execution_count": null,
   "metadata": {},
   "outputs": [],
   "source": [
    "species_with_deb = []\n",
    "for i in species[\"species\"]:\n",
    "    sp = i.replace(\" \", \"_\")\n",
    "    try:\n",
    "        f_rez = simulate(sp, location, initial_size = 1)\n",
    "        plot_res(f_rez, sp, location, aux)\n",
    "        species_with_deb.append(sp)\n",
    "    except KeyError:\n",
    "        print(\"Failed\", sp)"
   ]
  },
  {
   "cell_type": "code",
   "execution_count": null,
   "metadata": {},
   "outputs": [],
   "source": [
    "for i in species_with_deb:\n",
    "    print(i)\n"
   ]
  },
  {
   "cell_type": "code",
   "execution_count": null,
   "metadata": {},
   "outputs": [],
   "source": []
  }
 ],
 "metadata": {
  "interpreter": {
   "hash": "c9dea729eb3ee4cd7f07f186621811e52425eecfcfe1e8159534b887007bd691"
  },
  "kernelspec": {
   "display_name": "Python 3.9.10 64-bit ('hackathon': conda)",
   "language": "python",
   "name": "python3"
  },
  "language_info": {
   "codemirror_mode": {
    "name": "ipython",
    "version": 3
   },
   "file_extension": ".py",
   "mimetype": "text/x-python",
   "name": "python",
   "nbconvert_exporter": "python",
   "pygments_lexer": "ipython3",
   "version": "3.9.10"
  },
  "orig_nbformat": 4
 },
 "nbformat": 4,
 "nbformat_minor": 2
}

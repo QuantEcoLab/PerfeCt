{
 "cells": [
  {
   "cell_type": "code",
   "execution_count": 1,
   "metadata": {},
   "outputs": [],
   "source": [
    "#%matplotlib inline\n",
    "%matplotlib widget\n",
    "from ipyleaflet import *\n",
    "import ipywidgets as widgets\n",
    "from ipywidgets import HTML, Layout, IntSlider, RadioButtons, Dropdown, Button, Output, Label\n",
    "from IPython.display import display\n",
    "import numpy as np\n",
    "import matplotlib.pyplot as plt\n",
    "import random\n",
    "import json\n",
    "import netCDF4 as nc"
   ]
  },
  {
   "cell_type": "code",
   "execution_count": 2,
   "metadata": {},
   "outputs": [],
   "source": [
    "# Variable setup\n",
    "x, y = 0, 0\n",
    "dummy_num = 0\n",
    "#with open('data/europe_110.geo.json', 'r') as f:\n",
    "with open('data/poly_aqua_cro_wgs.geo.json', 'r') as f:\n",
    "    data = json.load(f)\n",
    "name = \"Dummy\"\n",
    "feature_clicked = False\n",
    "layer1_p = \"data//00483_25794_00001.nc\"\n",
    "# layer1_p = \"../Blue-Cloud Data Pool/MED-mixed_layer_depth-483/download_1/00483_25794_00001.nc\"\n",
    "layer1_d = nc.Dataset(layer1_p)\n",
    "#for var in layer1_d.variables.values():\n",
    "#for var in layer1_d.variables:\n",
    "#    print(var)\n",
    "data_dummy = np.array(layer1_d[\"Mixed_Layer_Depth\"][0, :, :], dtype=np.float64)\n",
    "data_dummy[data_dummy>1e+30] = np.nan #because it is a masked array\n",
    "\n",
    "lons = np.array(layer1_d[\"lon\"][:], dtype=np.float64)\n",
    "lats = np.array(layer1_d[\"lat\"][:], dtype=np.float64)"
   ]
  },
  {
   "cell_type": "code",
   "execution_count": 3,
   "metadata": {},
   "outputs": [],
   "source": [
    "# Map setup\n",
    "defaultLayout=Layout(width='1000px', height='500px')\n",
    "center=(40,20)\n",
    "m = Map(center=center,\n",
    "       #basemap=basemap_to_tiles(basemaps.NASAGIBS.ModisTerraTrueColorCR, \"2022-01-01\"),\n",
    "       basemap=basemaps.Gaode.Satellite,\n",
    "        zoom=4,\n",
    "       layout=defaultLayout)\n",
    "\n",
    "image1 = ImageOverlay(\n",
    "    url=\"data_dummy1.png\",\n",
    "    bounds=((np.min(lats), np.min(lons)), (np.max(lats), np.max(lons))),\n",
    "    name=\"viridis\"\n",
    ")\n",
    "image2 = ImageOverlay(\n",
    "    url=\"data_dummy2.png\",\n",
    "    bounds=((np.min(lats), np.min(lons)), (np.max(lats), np.max(lons))),\n",
    "    name=\"magma\"\n",
    ")\n",
    "image3 = ImageOverlay(\n",
    "    url=\"data_dummy3.png\",\n",
    "    bounds=((np.min(lats), np.min(lons)), (np.max(lats), np.max(lons))),\n",
    "    name=\"Blues\"\n",
    ")\n",
    "\n",
    "m.add_layer(image1)\n",
    "m.add_layer(image2)\n",
    "m.add_layer(image3)\n",
    "\n",
    "label = Label(layout=Layout(width=\"100%\"))\n",
    "\n",
    "def handle_click(**kwargs):\n",
    "    if kwargs.get('type') == 'click':\n",
    "        #m.add_layer(Marker(location=kwargs.get('coordinates')))\n",
    "        #print(\"You clicked on: \", kwargs.get('coordinates'))\n",
    "        \n",
    "        global x\n",
    "        global y\n",
    "        global dummy_num\n",
    "        global feature_clicked\n",
    "        \n",
    "        x, y = kwargs.get('coordinates')\n",
    "        idx = (np.abs(lats-x)).argmin()\n",
    "        idy = (np.abs(lons-y)).argmin()\n",
    "        #print(idx, idy)\n",
    "        val_mixed_layer_depth = data_dummy[idx,idy]\n",
    "        dummy_num += 1\n",
    "        message1 = HTML()\n",
    "        if feature_clicked:\n",
    "            message1.value = f\"Coordinates: ({np.round(x,2)}, {np.round(y,2)}) <br> Mixed layer depth: {np.round(val_mixed_layer_depth, 2)} m <br>  Aquaculture name: {name} <br> Number: {dummy_num}\"\n",
    "        else:\n",
    "            message1.value = f\"Coordinates: ({np.round(x,2)}, {np.round(y,2)}) <br> Mixed layer depth: {np.round(val_mixed_layer_depth, 2)} m <br> Number: {dummy_num}\"\n",
    "            label.value = \"No aquaculture selected\"\n",
    "        popup = Popup(\n",
    "            location=(x, y),\n",
    "            child=message1,\n",
    "            close_button=True,\n",
    "            auto_close=True,\n",
    "            close_on_escape_key=True,\n",
    "            max_width = 400,\n",
    "            name = \"Location info\"\n",
    "        )\n",
    "        m.add_layer(popup)\n",
    "        feature_clicked=False\n",
    "        \n",
    "m.on_interaction(handle_click)\n",
    "\n",
    "def random_color(feature):\n",
    "    return {\n",
    "        'color': 'black',\n",
    "        'fillColor': random.choice(['red', 'yellow', 'green', 'orange']),\n",
    "    }\n",
    "\n",
    "geo_json = GeoJSON(\n",
    "    data=data,\n",
    "    style={\n",
    "        'opacity': 1, 'fillOpacity': 0.5, 'weight': 1\n",
    "    },\n",
    "    hover_style={\n",
    "        'color': 'white', 'fillOpacity': 1\n",
    "    },\n",
    "    style_callback=random_color,\n",
    "    name=\"Farm locations\"\n",
    ")\n",
    "\n",
    "def click_handler(event=None, feature=None, id=None, properties=None):\n",
    "    global name\n",
    "    global feature_clicked\n",
    "    feature_clicked=True\n",
    "    #name = properties[\"geounit\"]\n",
    "    name = properties[\"species 1\"]\n",
    "    label.value = f\"Aquaculture name: {name}\"\n",
    "\n",
    "geo_json.on_click(click_handler)\n",
    "\n",
    "m.add_layer(geo_json)\n",
    "\n",
    "control = LayersControl(position='topright')\n",
    "m.add_control(control)\n"
   ]
  },
  {
   "cell_type": "code",
   "execution_count": 4,
   "metadata": {},
   "outputs": [
    {
     "data": {
      "application/vnd.jupyter.widget-view+json": {
       "model_id": "fca33d6b2bc5467abff23fec25577c16",
       "version_major": 2,
       "version_minor": 0
      },
      "text/plain": [
       "Map(center=[40, 20], controls=(ZoomControl(options=['position', 'zoom_in_text', 'zoom_in_title', 'zoom_out_tex…"
      ]
     },
     "metadata": {},
     "output_type": "display_data"
    },
    {
     "data": {
      "application/vnd.jupyter.widget-view+json": {
       "model_id": "c1058813756a40e8be7234f5fe2baaef",
       "version_major": 2,
       "version_minor": 0
      },
      "text/plain": [
       "Label(value='', layout=Layout(width='100%'))"
      ]
     },
     "metadata": {},
     "output_type": "display_data"
    },
    {
     "data": {
      "application/vnd.jupyter.widget-view+json": {
       "model_id": "e5935914cc3845c189f5e7d8983d6584",
       "version_major": 2,
       "version_minor": 0
      },
      "text/plain": [
       "RadioButtons(description='Species:', options=('species 1', 'species 2', 'species 3'), value='species 1')"
      ]
     },
     "metadata": {},
     "output_type": "display_data"
    },
    {
     "data": {
      "application/vnd.jupyter.widget-view+json": {
       "model_id": "38d1ba3d3e004004925a3092d210cb39",
       "version_major": 2,
       "version_minor": 0
      },
      "text/plain": [
       "RadioButtons(description='Scenario:', options=('scenario 1', 'scenario 2', 'scenario 3'), value='scenario 1')"
      ]
     },
     "metadata": {},
     "output_type": "display_data"
    },
    {
     "data": {
      "application/vnd.jupyter.widget-view+json": {
       "model_id": "b94d9ba9509c40a6a79bff2ce42e5460",
       "version_major": 2,
       "version_minor": 0
      },
      "text/plain": [
       "Button(description='Simulate!', style=ButtonStyle())"
      ]
     },
     "metadata": {},
     "output_type": "display_data"
    },
    {
     "data": {
      "application/vnd.jupyter.widget-view+json": {
       "model_id": "76e7ec45733049a08f21408c9edbf915",
       "version_major": 2,
       "version_minor": 0
      },
      "image/png": "[encoded data removed]",
      "text/html": [
       "\n",
       "            <div style=\"display: inline-block;\">\n",
       "                <div class=\"jupyter-widgets widget-label\" style=\"text-align: center;\">\n",
       "                    Figure\n",
       "                </div>\n",
       "                <img src='data:image/png;base64,iVBORw0KGgoAAAANSUhEUgAAAlgAAAGQCAYAAAByNR6YAAAAOXRFWHRTb2Z0d2FyZQBNYXRwbG90bGliIHZlcnNpb24zLjUuMSwgaHR0cHM6Ly9tYXRwbG90bGliLm9yZy/YYfK9AAAACXBIWXMAAA9hAAAPYQGoP6dpAAA2AElEQVR4nO3de1iUBcL//89wGg4CCgqIoIKiyFHTTmrntMw0D9izbfW09eyhJyvNJzxWpqWktG2763aw/W7bPv3cesRjmqWdPGTloQRERfGIB8QjgyADM3P//qC81i3LdOBmZt6v6+KPuXG4PtdcMPfHzz0MFsMwDAEAAMBt/MwOAAAA4G0oWAAAAG5GwQIAAHAzChYAAICbUbAAAADcjIIFAADgZhQsAAAAN6NgAQAAuBkFCwAAwM0oWAAAAG5GwQIAAHAzChYAAICbUbAAAADcjIIFAADgZhQsAAAAN6NgAQAAuBkFCwAAwM0oWAAAAG5GwQIAAHAzChYAAICbUbAAAADcjIIFAADgZhQsAAAAN6NgAQAAuBkFCwAAwM0oWAAAAG5GwQIAAHAzChYAAICbUbAAAADcjIIFAADgZhQsAAAAN6NgAQAAuBkFCwAAwM0oWAAAAG5GwQIAAHAzChYAAICbUbAAAADcjIIFAADgZhQsAAAAN6NgAQAAuBkFCwAAwM0oWAAAAG5GwQIAAHAzChYAAICbUbAAAADcjIIFAADgZgFmB/AULpdLhw8fVnh4uCwWi9lxAADwGIZhqLq6WvHx8fLz841th4J1kQ4fPqzExESzYwAA4LHKy8uVkJBgdoxmQcG6SOHh4ZIavzkiIiJMTgMAgOew2WxKTEw8dy71BRSsi/TdZcGIiAgKFgAAl8CXXmLjGxdCAQAAmhEFCwAAwM0oWAAAAG5GwQIAAHAzChYAAICbUbAAAADcjIIFAADgZl5RsNasWaMhQ4YoPj5eFotFixcvPu/zhmHo2WefVXx8vEJCQnTjjTeqpKTEnLAAAMDreUXBqqmpUXZ2tubMmfODn589e7ZeeuklzZkzRxs3blRcXJwGDBig6urqZk4KAAB8gVe8k/ugQYM0aNCgH/ycYRh6+eWXNWXKFI0YMUKS9NZbbyk2Nlbz5s3T7373u+aMCgBAi3as2q66BqcSo0LNjuLRvGLB+jF79+5VRUWFBg4ceO6Y1WrVDTfcoPXr11/wfna7XTab7bwPAAC8lWEYWrLlkAb8YbXGvPONnC7D7EgezesLVkVFhSQpNjb2vOOxsbHnPvdD8vLyFBkZee4jMTGxSXMCAGCWSludfvu/mzXmnS06XdugugaXTtTYzY7l0by+YH3n3//ApGEYP/pHJydNmqSqqqpzH+Xl5U0dEQCAZmUYhhZ+fVAD/rBGq7YdVaC/ReMGdNOSR/spJjzY7HgezSteg/Vj4uLiJDUuWe3btz93vLKy8nur1r+yWq2yWq1Nng8AADNUVNVpyqJifbyjUpKU0SFCL47KVmpchMnJvIPXL1hJSUmKi4vTqlWrzh2rr6/X6tWr1bdvXxOTAQDQ/AzD0PxN5Rrwh9X6eEelgvz9lHtbdy16pB/lyo28YsE6c+aMysrKzt3eu3evtmzZoqioKHXs2FFjx47VzJkzlZKSopSUFM2cOVOhoaH65S9/aWJqAACa15Gqs5q0sFiflR6TJGUnRCp/VLa6xYabnMz7eEXB2rRpk2666aZzt8eNGydJeuCBB/T3v/9d48eP19mzZ/XII4/o1KlTuvrqq7Vy5UqFh/MNBQDwfoZh6P82lev5ZdtVbXcoKMBP4wZ006/7JynA3+svZpnCYhgGv4d5EWw2myIjI1VVVaWICCZUAIBnOHT6rCYuKNLaXcclST0TW+vFUVnqGtN8I4MvnkO9YsECAADnMwxD8zYc0Mzl21VT75Q1wE9PDuyuh/onyd/vwr9FD/egYAEA4GXKT9Zq4sIifV52QpLUp1Mbzc7JUnK7ViYn8x0ULAAAvITLZejtr/brhRU7VFvvVHCgn3JvS9Wv+nZmtWpmFCwAALzA/hM1mrCgSF/uOSlJuqpzlGbnZKlz2zCTk/kmChYAAB7M5TL01hf7NPuDUp1tcCok0F8TB6Xq/ms6yY/VyjQULAAAPNTe4zWaUFCkDfsaV6trkqM0e2S2OkaHmpwMFCwAADyM02Xozc/36sWVpaprcCksyF8T7+ihe6/qyGrVQlCwAADwILuPnVHu/EJ9feC0JKlf12i9MCJLiVGsVi0JBQsAAA/gdBn669o9emnVTtkdLrWyBmjyHT10z1WJslhYrVoaChYAAC1cWWW1npxfpC3lpyVJ16W01Qsjs9ShdYi5wXBBFCwAAFooh9OluWv36OWPdqne4VK4NUBP35mmUX0SWK1aOAoWAAAtUGlFtXILClV0sEqSdGP3dsobkan2kaxWnoCCBQBAC9LgdOn11bv1p4/LVO90KTw4QFOHpGvkFR1YrTwIBQsAgBZi+xGbcgsKtfWQTZJ0S2qMZo7IVGxEsMnJ8HNRsAAAMFmD06VXPt2tOZ/uUoPTUGRIoJ4dmqZhPVmtPBUFCwAAE5UcrtKT84u0/UjjajUwLVbPD8tQDKuVR6NgAQBggnqHS3M+LdMrn5bJ4TLUOjRQ04ama2h2PKuVF6BgAQDQzIoPVim3oFA7KqolSYMy4jT9rgy1C7eanAzuQsECAKCZ2B1O/enjXXpt9R45XYaiwoL03F0ZGpzV3uxocDMKFgAAzaCw/LRyCwq18+gZSdLgrPaaPjRd0a1YrbwRBQsAgCZU1+DUyx/t0tw1u+UypLatGlerQZmsVt6MggUAQBP5+sAp5c4v1O5jNZKku3rGa+qQdEWFBZmcDE2NggUAgJvVNTj10qqd+uvaPd+uVlbNGJ6h29LjzI6GZkLBAgDAjTbvP6nc+UXac7xxtRrRq4OeGZKm1qGsVr6EggUAgBucrXfqxZWl+tvne2UYUmyEVTOHZ+qWHrFmR4MJKFgAAFymDXtPanxBofadqJUk5fRO0NOD0xQZGmhyMpiFggUAwCWqrXdo9geleuuLfTIMqX1ksGaOyNRN3WPMjgaTUbAAALgEX+w+oQkLinTgZONq9YsrEzV5cA9FBLNagYIFAMDPUmN36IUVO/S/X+6XJHVoHaK8EZm6vls7k5OhJaFgAQBwkT4vO64JC4p08NRZSdK9V3fUxEGpCme1wr+hYAEA8BOq6xqUt2KH5n11QJKU0CZEs0ZmqV/XtiYnQ0tFwQIA4Ees2XlMExcU6XBVnSTpP6/tpAm3pyrMyikUF8Z3BwAAP8BW16AZy7br3U3lkqTEqBDNHpmta7tEm5wMnoCCBQDAv/m0tFKTFxbryLer1a/6dtb427srNIjTJi4O3ykAAHyr6myDnl+2TfM3H5QkdY4O1eycbF2VFGVyMngaChYAAJI+3n5UkxcV66jNLotFeqhfkp4c2F0hQf5mR4MHomABAHza6dp6TX9vmxZ+c0iSlNw2TPmjstS7E6sVLh0FCwDgs1Zta1ytjlXb5WeRfn1dssYN6KbgQFYrXB4KFgDA55yqqdez75VoyZbDkqSuMa2Un5OlXh3bmJwM3oKCBQDwKR9sPaKnFm/V8TP18rNIv72+i8bemsJqBbeiYAEAfMKJM3Y9s7REy4uOSJK6xbZSfk62shNbmxsMXomCBQDwaoZhaHnxET2zpEQna+rl72fRf9/QRY/d0lXWAFYrNA0KFgDAax2rtuuZJVu1YmuFJCk1Llz5OdnKTIg0ORm8HQULAOB1DMPQ0sLDenZpiU7VNijAz6JHbuqqR2/qqqAAP7PjwQdQsAAAXqXSVqcpi7dq1bajkqQe7SP04qgspcezWqH5+ESNdzgceuqpp5SUlKSQkBAlJydr+vTpcrlcZkcDALiJYRha+PVBDfjDGq3adlQBfhaNvTVFSx/tR7lCs/OJBWvWrFl67bXX9NZbbyk9PV2bNm3Sgw8+qMjISI0ZM8bseACAy1RRVacpi4r18Y5KSVJGhwjl52SrR/sIk5PBV/lEwfriiy901113afDgwZKkzp0765///Kc2bdpkcjIAwOUwDEMFmw9q+rJtqq5zKNDforG3dtNvr09WoL9PXKRBC+UTBat///567bXXtHPnTnXr1k2FhYVat26dXn755Qvex263y263n7tts9maISkA4GIdPn1WkxcV67PSY5KkrIRI5edkq3tcuMnJAB8pWBMmTFBVVZVSU1Pl7+8vp9OpGTNm6J577rngffLy8jRt2rRmTAkAuBiGYej/NpXr+WXbVW13KMjfT08M6KbfXJekAFYrtBA+UbDeffddvf3225o3b57S09O1ZcsWjR07VvHx8XrggQd+8D6TJk3SuHHjzt222WxKTExsrsgAgB9w6PRZTVxQpLW7jkuSeia21oujstQ1htUKLYvFMAzD7BBNLTExURMnTtTo0aPPHXv++ef19ttva8eOHRf1NWw2myIjI1VVVaWICF40CQDNyTAMzdtwQDOXb1dNvVPWAD/9z8Bu+q/+yfL3s5gdDz/BF8+hPrFg1dbWys/v/NnY39+ft2kAAA9QfrJWExcW6fOyE5Kk3p3aaHZOlrq0a2VyMuDCfKJgDRkyRDNmzFDHjh2Vnp6ub775Ri+99JIeeughs6MBAC7A5TL0/321X3krdqi23qngQD/l3paqX/XtzGqFFs8nLhFWV1fr6aef1qJFi1RZWan4+Hjdc889euaZZxQUFHRRX8MX500AMMuBE7Uav6BQX+45KUm6qnOUZudkqXPbMJOT4VL44jnUJwqWO/jiNwcANDeXy9A/vtinWR+U6myDUyGB/ppwe3f957Wd5cdq5bF88RzqE5cIAQAt377jNRpfUKQN+xpXq6uTopSfk62O0aEmJwN+PgoWAMBUTpehNz/fqxdXlqquwaXQIH9NGpSqe6/uxGoFj0XBAgCYZvexMxpfUKTN+09Jkvp2idaskVlKjGK1gmejYAEAmp3TZej/rduj36/cKbvDpbAgf00ZnKZ7rkqUxcJqBc9HwQIANKuyymrlFhTpmwOnJUnXpbRV3ohMJbRhtYL3oGABAJqFw+nSG2v36g8f7VS9w6Vwa4CeurOH7u7DagXvQ8ECADS5nUerlTu/UIUHqyRJN3Rrp7wRmYpvHWJyMqBpULAAAE3G4XTp9TV79MePdqne6VJ4cICeuTNNOb0TWK3g1ShYAIAmsf2ITbkFhdp6yCZJuiU1RjOGZyouMtjkZEDTo2ABANyqwenSq5/t1p8/2aUGp6HIkEA9OzRNw3p2YLWCz6BgAQDcZtthm56cX6htRxpXq4FpsXp+WIZiIlit4FsoWACAy1bvcOkvn5bpL5+WyeEy1CY0UNPuytCQrPasVvBJFCwAwGXZeqhKT84v1I6KaknSoIw4Tb8rQ+3CrSYnA8xDwQIAXBK7w6k/f1ymV1fvltNlKCosSM/dlaHBWe3NjgaYjoIFAPjZCstPK7egUDuPnpEkDc5qr+lD0xXditUKkChYAICfoa7BqT9+vEuvr94tlyG1bdW4Wg3KZLUC/hUFCwBwUb4+cErjC4pUVtm4Wt3VM15Th6QrKizI5GRAy0PBAgD8qLoGp15atVN/Xbvn29XKqhnDM3RbepzZ0YAWi4IFALigzftPKnd+kfYcr5EkjejVQc8MSVPrUFYr4MdQsAAA33O23qkXV5bqb5/vlWFIsRFWzRyeqVt6xJodDfAIFCwAwHk27D2p8QWF2neiVpKU0ztBTw9OU2RooMnJAM9BwQIASJJq6x3K/7BUf1+/T4YhxUUEK29kpm7qHmN2NMDjULAAAPpyzwmNLyjSgZONq9UvrkzU5ME9FBHMagVcCgoWAPiwGrtDsz7YoX98sV+SFB8ZrBdGZun6bu1MTgZ4NgoWAPioz8uOa8KCIh08dVaS9MurO2rSoFSFs1oBl42CBQA+prquQXkrdmjeVwckSR1ah2h2Tpb6dW1rcjLAe1CwAMCHrNl5TBMXFOlwVZ0k6f5rOmnCoFS1snI6ANyJnygA8AG2ugbNWLZd724qlyQlRoVo1sgs9e3CagU0BQoWAHi5T0srNXlhsY58u1r9qm9n5d7WXWGsVkCT4acLALxUVW2Dnlu+TQWbD0qSOkWHavbILF2dHG1yMsD7UbAAwAt9vP2oJi8q1lGbXRaL9GDfJOXe1l0hQf5mRwN8AgULALzI6dp6TX9vmxZ+c0iSlNQ2TPk5WerTOcrkZIBvoWABgJdYWVKhKYu36li1XX4W6dfXJWvcgG4KDmS1ApobBQsAPNypmno9+16Jlmw5LEnq0i5M+aOydUXHNiYnA3wXBQsAPNgHW4/oqcVbdfxMvfws0m+v76Kxt6awWgEmo2ABgAc6ccauqUtLtKzoiCQpJaaV8kdlq2dia3ODAZBEwQIAj7O86IieWbJVJ2rq5e9n0cM3JOvxW1JkDWC1AloKChYAeIhj1XY9s2SrVmytkCR1jw3Xi6OylZkQaXIyAP+OggUALZxhGHqv6IimLtmqU7UNCvCz6JEbu+jRm1MUFOBndjwAP4CCBQAtWGV1nZ5atFUrtx2VJPVoH6H8nCxldGC1AloyChYAtECGYWjxlkN6duk2VZ1tXK0evbmrHrmxK6sV4AEoWADQwhy11WnKomJ9tL1SkpQeH6H8nGylxUeYnAzAxaJgAUALYRiGFnx9SNPfK5GtzqFAf4vG3JKi393QRYH+rFaAJ6FgAUALcKTqrCYvLNanpcckSVkJkcrPyVb3uHCTkwG4FBQsADCRYRiav+mgnlu2TdV2h4L8/TR2QIp+e12yAlitAI/lMz+9hw4d0n333afo6GiFhoaqZ8+e2rx5s9mxAPiwQ6fP6oE3N2r8giJV2x3qmdhayx/vr0du7Eq5AjycTyxYp06dUr9+/XTTTTdpxYoViomJ0e7du9W6dWuzowHwQYZh6J2N5ZqxfLvO2B0KCvDT/wzopl9flyx/P4vZ8QC4gU8UrFmzZikxMVFvvvnmuWOdO3c2LxAAn1V+slaTFhZrXdlxSdIVHVtrdk62usa0MjkZAHfyiQ166dKl6tOnj0aNGqWYmBj16tVLb7zxxo/ex263y2aznfcBAJfK5TL0v1/u1+0vr9G6suMKDvTTU4N7aP7DfSlXgBfyiYK1Z88evfrqq0pJSdGHH36ohx9+WI8//rj+8Y9/XPA+eXl5ioyMPPeRmJjYjIkBeJMDJ2p171+/0tOLt6qm3qkrO7fRijHXc0kQ8GIWwzAMs0M0taCgIPXp00fr168/d+zxxx/Xxo0b9cUXX/zgfex2u+x2+7nbNptNiYmJqqqqUkQEb/YH4Kd9t1q9sGKHzjY4FRLor/G3d9cD13aWH8UKPsRmsykyMtKnzqE+8Rqs9u3bKy0t7bxjPXr00IIFCy54H6vVKqvV2tTRAHipfcdrNH5BkTbsPSlJuiY5SrNGZqlTdJjJyQA0B58oWP369VNpael5x3bu3KlOnTqZlAiAt3K5DP19/T7N/nCH6hpcCg3y18RBqbrv6k6sVoAP8YmC9cQTT6hv376aOXOm7r77bm3YsEFz587V3LlzzY4GwIvsOXZG4wuKtGn/KUlS3y7RmjUyS4lRoSYnA9DcfOI1WJK0bNkyTZo0Sbt27VJSUpLGjRun3/zmNxd9f1+8fgzg4jhdhv62bq9eXFkqu8OlsCB/TRmcpnuuSpTFwmoF+OI51GcK1uXyxW8OAD+trPKMcgsK9c2B05Kk61LaKm9EphLasFoB3/HFc6hPXCIEAHdzOF3667q9emnVTtU7XAq3BuipO3vo7j6sVgAoWADws+06Wq0nC4pUWH5aknRDt3bKG5Gp+NYh5gYD0GJQsADgIjmcLr2+Zo/++NEu1TtdCg8O0DN3pimndwKrFYDzULAA4CLsqLApd36Rig9VSZJuSY3RjOGZiosMNjkZgJaIggUAP6LB6dKrn+3Wnz/ZpQanociQQD07NE3DenZgtQJwQRQsALiAbYdtyi0oVMnhxj/2fmuPWM0cnqGYCFYrAD+OggUA/6be4dJfPi3TXz4tk8NlqHVooKYNTdfQ7HhWKwAXhYIFAP9i66EqPTm/UDsqqiVJt6XH6vlhmWoXzt8mBXDxKFgAIMnucGrOJ2V65bPdcroMRYUFafpd6Rqc2Z7VCsDPRsEC4POKDp7Wk/MLtfPoGUnS4Kz2mj40XdGtWK0AXBoKFgCfVdfg1B8/3qW5a/bI6TIUHRak54Zl6I7M9mZHA+DhKFgAfNI3B04pt6BIZZWNq9XQ7Hg9OzRdUWFBJicD4A0oWAB8Sl2DU39YtVNvrN0jlyG1bWXVjOEZui09zuxoALwIBQuAz9i8/6Ry5xdpz/EaSdLwXh30zJ1pasNqBcDNKFgAvN7ZeqdeXFmqv32+V4YhxYRbNXN4pm5NizU7GgAvRcEC4NU27D2p8QWF2neiVpKU0ztBTw9OU2RooMnJAHgzChYAr1Rb79DsD0r11hf7ZBhSXESw8kZk6qbUGLOjAfABFCwAXufLPSc0vqBIB042rlZ390nQlMFpigxhtQLQPChYALxGjd2hWR/s0D++2C9Jah8ZrBdGZumGbu1MTgbA11CwAHiF9WXHNX5BkQ6eOitJuueqRE26o4ciglmtADQ/ChYAj1Zd16C8FTs076sDkqQOrUM0a2SW+qe0NTkZAF9GwQLgsdbuOqaJC4p16HTjanXfNR01cVAPtbLy1AbAXDwLAfA4troGzVy+Xe9sLJckJUY1rlZ9u7BaAWgZKFgAPMpnpZWatLBYR6rqJEkPXNtJ429PVRirFYAWhGckAB6h6myDnl+2TfM3H5QkdYoO1ayRWbomOdrkZADwfRQsAC3eJzuOatLCYh212WWxSA/2TdKTt3VTaBBPYQBaJp6dALRYVbUNmrasRAu/PiRJSmobpvycLPXpHGVyMgD4cRQsAC3Sqm1HNXlRsY5VN65Wv+6fpHEDuiskyN/saADwkyhYAFqUUzX1mvZeiRZvOSxJSm4XpvycbPXu1MbkZABw8ShYAFqMD7Ye0VOLS3T8jF1+Fuk31yfriVu7KTiQ1QqAZ6FgATDdiTN2TV1aomVFRyRJKTGtlD8qWz0TW5sbDAAuEQULgKmWFx3RM0u26kRNvfz9LHr4hmQ9fkuKrAGsVgA8FwULgCmOn7HrmSVb9X5xhSSpe2y4XhyVrcyESJOTAcDlo2ABaFaGYei9oiOaumSrTtU2KMDPokdu7KJHb05RUICf2fEAwC0oWACaTWV1nZ5evFUflhyVJPVoH6H8nCxldGC1AuBdKFgAmpxhGFqy5bCefa9Ep79drR67OUX/fWMXVisAXomCBaBJHbXVacqiYn20vVKSlB4fofycbKXFR5icDACaDgULQJMwDEMLvz6kae+VyFbnUKC/RWNuSdHvbuiiQH9WKwDejYIFwO0qquo0aWGRPi09JknKSohUfk62useFm5wMAJoHBQuA2xiGofmbD+q5ZdtUXedQkL+fxg5I0W+vS1YAqxUAH0LBAuAWh0+f1aSFxVq9s3G16pnYWvk5WUqJZbUC4HsoWAAui2EYemdjuWYs364zdoeCAvz05MBu+q/+yfL3s5gdDwBMQcECcMkOnqrVpIXFWrvruCSpd6c2mp2TpS7tWpmcDADMRcEC8LO5XIbmbTigvPe3q6beqeBAPz05sLse7JfEagUAomAB+JnKT9ZqfEGRvthzQpJ0Zec2mp2TraS2YSYnA4CWwyd/rScvL08Wi0Vjx441OwrgMVwuQ//4Yp9ue3mNvthzQiGB/po6JE3v/vZayhUA/BufW7A2btyouXPnKisry+wogMfYf6JG4wuK9NXek5Kkq5OiNDsnS52iKVYA8EN8asE6c+aM7r33Xr3xxhtq06aN2XGAFs/lMvS3dXt128tr9NXekwoN8tf0u9L1z99cQ7kCgB/hUwvW6NGjNXjwYN166616/vnnf/Tf2u122e32c7dtNltTxwNalD3Hzmh8QZE27T8lSerbJVqzRmYpMSrU5GQA0PL5TMF655139PXXX2vjxo0X9e/z8vI0bdq0Jk4FtDzOb1erF1eWyu5wKSzIX5MH99Avr+ooi4XfEASAi+ETBau8vFxjxozRypUrFRwcfFH3mTRpksaNG3futs1mU2JiYlNFBFqEssozyi0o1DcHTkuSrktpq7wRmUpow2oFAD+HxTAMw+wQTW3x4sUaPny4/P39zx1zOp2yWCzy8/OT3W4/73M/xGazKTIyUlVVVYqIiGjqyECzcjhd+uu6vXpp1U7VO1xqZQ3QU4N76D+uTGS1AnDZfPEc6hML1i233KLi4uLzjj344INKTU3VhAkTfrJcAd5s59Fq5c4vVOHBKknSDd3aKW9EpuJbh5icDAA8l08UrPDwcGVkZJx3LCwsTNHR0d87DvgKh9Ol19fs0R8/2qV6p0vhwQF6+s40jeqdwGoFAJfJJwoWgPPtqLApd36Rig81rlY3p8Zo5vBMxUVe3GsUAQA/zmcL1meffWZ2BKDZNThdevWz3frzJ7vU4DQUERygZ4ema3ivDqxWAOBGPluwAF+z7bBNuQWFKjnc+J5ut/aI1czhGYqJYLUCAHejYAFert7h0l8+LdNfPi2Tw2WodWigpg1N19DseFYrAGgiFCzAi209VKUn5xdqR0W1JOm29Fg9NyxDMeGsVgDQlChYgBeyO5ya80mZXvlst5wuQ21CAzXtrgwNyWrPagUAzYCCBXiZooOnlTu/SKVHG1erwZntNe2udLVtZTU5GQD4DgoW4CXqGpz608e79PqaPXK6DEWHBem5YRm6I7O92dEAwOdQsAAv8M2BU8otKFJZ5RlJ0pDseE0bmq6osCCTkwGAb6JgAR6srsGpP6zaqTfW7pHLkNq2sur5YRm6PSPO7GgA4NMoWICH2rz/lHILCrXnWI0kaVjPeE0dkq42rFYAYDoKFuBhztY79fuVpfp/n++VYUgx4VbNGJ6pAWmxZkcDAHyLggV4kI37Tmp8QZH2Hm9crUZekaBn7kxTZGigyckAAP+KggV4gNp6h/I/LNXf1++TYUixEVbljcjUzamsVgDQElGwgBbuyz0nNL6gSAdO1kqS7u6ToCmD0xQZwmoFAC0VBQtooWrsDs36YIf+8cV+SVL7yGDljcjUjd1jTE4GAPgpFCygBVpfdlzjFxTp4KmzkqRfXJmoyYN7KCKY1QoAPAEFC2hBztgdemHFdr395QFJUofWIXphZKauS2lncjIAwM9BwQJaiHW7jmvCgiIdOt24Wt17dUdNuqOHWln5MQUAT8MzN2Cy6roGzXx/u/65oVySlBgVolkjstS3a1uTkwEALhUFCzDR6p3HNGlBkQ5X1UmSHri2k8bfnqowVisA8Gg8iwMmqDrboBnLt+n/Nh2UJHWKDtXskVm6Ojna5GQAAHegYAHN7JMdRzV54VZV2OpksUgP9k3Sk7d1U2gQP44A4C14RgeaSVVtg6Yv26YFXzeuVkltw5Sfk6U+naNMTgYAcDcKFtAMVm07qimLilVZbZfFIv26f5LGDeiukCB/s6MBAJoABQtoQqdq6jXtvRIt3nJYkpTcLkz5Odnq3amNyckAAE2JggU0kQ+2VuipxVt1/IxdfhbpN9cn64lbuyk4kNUKALwdBQtws5M19Zq6tETvFTauVl1jWik/J0u9OrJaAYCvoGABbvR+8RE9vXirTtTUy9/Pot9dn6zHb0lhtQIAH0PBAtzg+Bm7pi4p0fLiI5Kk7rHhyh+VpayE1uYGAwCYgoIFXAbDMLSs6IimLi3RyW9Xq9E3dtHom7vKGsBqBQC+ioIFXKJj1XY9vXirPiipkCT1aB+h/JwsZXSINDkZAMBsFCzgZzIMQ0sLD2vq0hKdrm1QgJ9Fj97cVY/c2FVBAX5mxwMAtAAULOBnqLTVafKirfpo+1FJUnp8hPJzspUWH2FyMgBAS0LBAi6CYRha+PUhTXuvRLY6hwL9LXr85hQ9fGMXBfqzWgEAzkfBAn5CRVWdJi0s0qelxyRJmR0ilT8qS6lxrFYAgB9GwQIuwDAMzd98UM8t26bqOoeC/P00dkCKfntdsgJYrQAAP4KCBfyAw6fPatLCYq3e2bhaZSe21os5WUqJDTc5GQDAE1CwgH9hGIbe2ViuGcu364zdoaAAP40b0E2/7p/EagUAuGgULOBbB0/VatLCYq3ddVyS1Ktja+XnZKtrTCuTkwEAPA0FCz7P5TI0b8MB5b2/XTX1TlkD/JR7W3c92C9J/n4Ws+MBADwQBQs+rfxkrSYsKNL63SckSX06tdHsnCwlt2O1AgBcOgoWfJLLZejtr/brhRU7VFvvVHCgn8bflqoH+nZmtQIAXDYKFnzO/hM1Gl9QpK/2npQkXZUUpdkjs9S5bZjJyQAA3oKCBZ/hchn6+/p9yv+wVGcbnAoN8teE21N1/zWd5MdqBQBwIwoWfMLe4zUaX1CojftOSZKuTY7WrJFZ6hgdanIyAIA3omDBqzldht78fK/yPyyV3eFSWJC/Jt3RQ7+8qiOrFQCgyfjEOyfm5eXpyiuvVHh4uGJiYjRs2DCVlpaaHQtNbPexMxr12no9v3y77A6X+ndtqw+fuF73cUkQANDEfKJgrV69WqNHj9aXX36pVatWyeFwaODAgaqpqTE7GpqA02Xo9dW7NeiPa/X1gdNqZQ1Q3ohM/e9/XaWENlwSBAA0PYthGIbZIZrbsWPHFBMTo9WrV+v666+/qPvYbDZFRkaqqqpKERERTZwQl2rX0Wo9WVCkwvLTkqTru7VT3ohMdWgdYm4wAPBhvngO9cnXYFVVVUmSoqKiLvhv7Ha77Hb7uds2m63Jc+HSOZwuvb5mj/740S7VO10Ktwbo6TvTNKpPgiwWLgcCAJqXzxUswzA0btw49e/fXxkZGRf8d3l5eZo2bVozJsOlKq2oVm5BoYoONhbnm7q308wRmWofyWoFADCHz10iHD16tJYvX65169YpISHhgv/uhxasxMREn5o3W7oGp0uvfbZbf/pklxqchiKCAzR1SLpGXNGB1QoAWhAuEXq5xx57TEuXLtWaNWt+tFxJktVqldVqbaZk+Lm2HbYpt6BQJYcbL93e2iNGM4ZnKjYi2ORkAAD4SMEyDEOPPfaYFi1apM8++0xJSUlmR8Ilqne49MpnZZrzSZkcLkORIYGaNjRdd/WMZ7UCALQYPlGwRo8erXnz5mnJkiUKDw9XRUWFJCkyMlIhIbxOx1NsPVSlJ+cXakdFtSRpYFqsnh+eoZhwVisAQMviE6/ButCy8eabb+pXv/rVRX0NX7x+3FLYHU7N+aRMr3y2W06XoTahgXp2aLqGZrNaAYAn8MVzqE8sWD7QIb1W0cHTyp1fpNKjjavVHZlxmn5Xhtq24vVxAICWyycKFjyP3eHUHz/apdfX7JHTZSg6LEjT78rQ4Kz2ZkcDAOAnUbDQ4mwpP63c+YXaVXlGkjQkO17PDklTNKsVAMBDULDQYtQ1OPXyR7s0d81uuQypbSurnh+Wodsz4syOBgDAz0LBQouwef8pjS8o1O5jjX+Ae3ivDnrmzjS1CQsyORkAAD8fBQumqmtw6vcrS/XXdXtlGFJMuFUzhmdqQFqs2dEAALhkFCyYZuO+kxpfUKS9xxtXq5FXJOiZO9MUGRpocjIAAC4PBQvNrrbeofwPS/X39ftkGFJcRLBmjsjQzamsVgAA70DBQrP6as8JjV9QpP0naiVJd/dJ0JTBaYoMYbUCAHgPChaaRY3dodkf7NBbX+yXJLWPDFbeiEzd2D3G5GQAALgfBQtNbv3u45qwoEjlJ89Kkn5xZaImD+6hiGBWKwCAd6JgocmcsTv0wortevvLA5KkDq1D9MLITF2X0s7kZAAANC0KFprEul2Nq9Wh042r1b1Xd9SkO3qolZVvOQCA9+NsB7eqrmvQzPd36J8bGlerhDYhmj0yS327tjU5GQAAzYeCBbdZs/OYJi4o0uGqOknSA9d20vjbUxXGagUA8DGc+XDZbHUNmrFsu97dVC5J6hQdqlkjs3RNcrTJyQAAMAcFC5fl0x2VmrSwWBW2Olks0q/6dlbubd0VGsS3FgDAd3EWxCWpqm3Q9GXbtODrg5KkpLZhmp2TpSs7R5mcDAAA81Gw8LOt2nZUUxYVq7LaLotF+q9+Sfqfgd0VEuRvdjQAAFoEChYu2qmaek17r0SLtxyWJCW3C1N+TpZ6d2K1AgDgX1GwcFE+2FqhpxZv1fEzdvlZpN9cl6wnBnRTcCCrFQAA/46ChR91sqZeU5eW6L3CxtWqa0wr5edkqVfHNiYnAwCg5aJg4YLeLz6ipxdv1YmaevlZpN/d0EVjbklhtQIA4CdQsPA9x8/YNXVJiZYXH5EkdY8NV/6oLGUltDY3GAAAHoKChXMMw9CyoiOaurREJ2vq5e9n0SM3dtGjN3eVNYDVCgCAi0XBgiTpWLVdTy/eqg9KKiRJqXHhenFUtjI6RJqcDAAAz0PB8nGGYWhp4WFNXVqi07UNCvCzaPRNXTX6pq4KCvAzOx4AAB6JguXDKm11mrxoqz7aflSSlNY+QvmjspQez2oFAMDloGD5IMMwtOibQ3p2aYlsdQ4F+lv02M0p+u8buyjQn9UKAIDLRcHyMRVVdZq8qFif7KiUJGV2iFT+qCylxkWYnAwAAO9BwfIRhmFo/uaDem7ZNlXXORTk76cxt6bod9cnK4DVCgAAt6Jg+YDDp89q0sJird55TJKUnRCp/FHZ6hYbbnIyAAC8EwXLixmGof/bVK7nl21Xtd2hoAA/jRvQTb/un8RqBQBAE6JgealDp89q4oIird11XJLUq2Nr5edkqWsMqxUAAE2NguVlDMPQvA0HNHP5dtXUO2UN8NOTA7vrof5J8vezmB0PAACfQMHyIuUnazVhQZHW7z4hSerTqY1m52QpuV0rk5MBAOBbKFhewOUy9PZX+/XCih2qrXcqONBPubel6ld9O7NaAQBgAgqWhztwola5BYX6au9JSdJVnaM0OydLnduGmZwMAADfRcHyUC6Xobe+2KfZH5TqbINTIYH+mjgoVfdf00l+rFYAAJiKguWB9h6v0YSCIm3Y17haXZMcpdkjs9UxOtTkZAAAQKJgeRSny9Cbn+/ViytLVdfgUliQvybe0UP3XtWR1QoAgBaEguUhdh87o9z5hfr6wGlJUv+ubZU3IlOJUaxWAAC0NBSsFs7pMvTXtXv00qqdsjtcamUN0JTBPfSLKxNlsbBaAQDQElGwWrCyymo9Ob9IW8pPS5Ku79ZOeSMy1aF1iLnBAADAj6JgtUAOp0tz1+7Ryx/tUr3DpfDgAD09OE2j+iSwWgEA4AEoWC1MaUW1cgsKVXSwSpJ0U/d2mjkiU+0jWa0AAPAUfmYHaE6vvPKKkpKSFBwcrN69e2vt2rVmRzqnwenSnE926c4/r1XRwSpFBAfo96Oy9bdfXUm5AgDAw/jMgvXuu+9q7NixeuWVV9SvXz+9/vrrGjRokLZt26aOHTuamm37EZuenF+oksM2SdKtPWI0Y3imYiOCTc0FAAAujcUwDMPsEM3h6quv1hVXXKFXX3313LEePXpo2LBhysvL+8n722w2RUZGqqqqShEREW7JVO9w6ZXPyjTnkzI5XIYiQwI1bWi67uoZz2utAABeoynOoS2dTyxY9fX12rx5syZOnHje8YEDB2r9+vU/eB+73S673X7uts1mc2umSludHnhzo7Yfafy6A9Ni9fzwDMWEs1oBAODpfOI1WMePH5fT6VRsbOx5x2NjY1VRUfGD98nLy1NkZOS5j8TERLdmim5lVXCgn9qEBupP9/TS6/f3plwBAOAlfGLB+s6/X3YzDOOCl+ImTZqkcePGnbtts9ncWrL8/Sz60y96KTjQX+3CrW77ugAAwHw+UbDatm0rf3//761VlZWV31u1vmO1WmW1Nm3x4c/cAADgnXziEmFQUJB69+6tVatWnXd81apV6tu3r0mpAACAt/KJBUuSxo0bp/vvv199+vTRtddeq7lz5+rAgQN6+OGHzY4GAAC8jM8UrP/4j//QiRMnNH36dB05ckQZGRl6//331alTJ7OjAQAAL+Mz74N1uXzxPTwAAHAHXzyH+sRrsAAAAJoTBQsAAMDNKFgAAABuRsECAABwMwoWAACAm1GwAAAA3Mxn3gfrcn33bhY2m83kJAAAeJbvzp2+9M5QFKyLVF1dLUlu/YPPAAD4kurqakVGRpodo1nwRqMXyeVy6fDhwwoPD5fFYnHL17TZbEpMTFR5ebnPvPFaU+MxdS8eT/fjMXUvHk/3a4rH1DAMVVdXKz4+Xn5+vvHqJBasi+Tn56eEhIQm+doRERE8MbgZj6l78Xi6H4+pe/F4up+7H1NfWa6+4xs1EgAAoBlRsAAAANyMgmUiq9WqqVOnymq1mh3Fa/CYuhePp/vxmLoXj6f78Zi6By9yBwAAcDMWLAAAADejYAEAALgZBQsAAMDNKFgAAABuRsEy0SuvvKKkpCQFBwerd+/eWrt2rdmRPFJeXp6uvPJKhYeHKyYmRsOGDVNpaanZsbxGXl6eLBaLxo4da3YUj3bo0CHdd999io6OVmhoqHr27KnNmzebHctjORwOPfXUU0pKSlJISIiSk5M1ffp0uVwus6N5jDVr1mjIkCGKj4+XxWLR4sWLz/u8YRh69tlnFR8fr5CQEN14440qKSkxJ6wHomCZ5N1339XYsWM1ZcoUffPNN7ruuus0aNAgHThwwOxoHmf16tUaPXq0vvzyS61atUoOh0MDBw5UTU2N2dE83saNGzV37lxlZWWZHcWjnTp1Sv369VNgYKBWrFihbdu26fe//71at25tdjSPNWvWLL322muaM2eOtm/frtmzZys/P19//vOfzY7mMWpqapSdna05c+b84Odnz56tl156SXPmzNHGjRsVFxenAQMGnPvbvPgJBkxx1VVXGQ8//PB5x1JTU42JEyealMh7VFZWGpKM1atXmx3Fo1VXVxspKSnGqlWrjBtuuMEYM2aM2ZE81oQJE4z+/fubHcOrDB482HjooYfOOzZixAjjvvvuMymRZ5NkLFq06Nxtl8tlxMXFGS+88MK5Y3V1dUZkZKTx2muvmZDQ87BgmaC+vl6bN2/WwIEDzzs+cOBArV+/3qRU3qOqqkqSFBUVZXISzzZ69GgNHjxYt956q9lRPN7SpUvVp08fjRo1SjExMerVq5feeOMNs2N5tP79++vjjz/Wzp07JUmFhYVat26d7rjjDpOTeYe9e/eqoqLivPOU1WrVDTfcwHnqIvHHnk1w/PhxOZ1OxcbGnnc8NjZWFRUVJqXyDoZhaNy4cerfv78yMjLMjuOx3nnnHX399dfauHGj2VG8wp49e/Tqq69q3Lhxmjx5sjZs2KDHH39cVqtV//mf/2l2PI80YcIEVVVVKTU1Vf7+/nI6nZoxY4buueces6N5he/ORT90ntq/f78ZkTwOBctEFovlvNuGYXzvGH6eRx99VEVFRVq3bp3ZUTxWeXm5xowZo5UrVyo4ONjsOF7B5XKpT58+mjlzpiSpV69eKikp0auvvkrBukTvvvuu3n77bc2bN0/p6enasmWLxo4dq/j4eD3wwANmx/ManKcuHQXLBG3btpW/v//31qrKysrv/W8BF++xxx7T0qVLtWbNGiUkJJgdx2Nt3rxZlZWV6t2797ljTqdTa9as0Zw5c2S32+Xv729iQs/Tvn17paWlnXesR48eWrBggUmJPF9ubq4mTpyoX/ziF5KkzMxM7d+/X3l5eRQsN4iLi5PUuGS1b9/+3HHOUxeP12CZICgoSL1799aqVavOO75q1Sr17dvXpFSeyzAMPfroo1q4cKE++eQTJSUlmR3Jo91yyy0qLi7Wli1bzn306dNH9957r7Zs2UK5ugT9+vX73luH7Ny5U506dTIpkeerra2Vn9/5pzB/f3/epsFNkpKSFBcXd955qr6+XqtXr+Y8dZFYsEwybtw43X///erTp4+uvfZazZ07VwcOHNDDDz9sdjSPM3r0aM2bN09LlixReHj4uWUwMjJSISEhJqfzPOHh4d97/VpYWJiio6N5XdsleuKJJ9S3b1/NnDlTd999tzZs2KC5c+dq7ty5ZkfzWEOGDNGMGTPUsWNHpaen65tvvtFLL72khx56yOxoHuPMmTMqKys7d3vv3r3asmWLoqKi1LFjR40dO1YzZ85USkqKUlJSNHPmTIWGhuqXv/yliak9iLm/xOjb/vKXvxidOnUygoKCjCuuuIK3FbhEkn7w48033zQ7mtfgbRou33vvvWdkZGQYVqvVSE1NNebOnWt2JI9ms9mMMWPGGB07djSCg4ON5ORkY8qUKYbdbjc7msf49NNPf/C584EHHjAMo/GtGqZOnWrExcUZVqvVuP76643i4mJzQ3sQi2EYhkndDgAAwCvxGiwAAAA3o2ABAAC4GQULAADAzShYAAAAbkbBAgAAcDMKFgAAgJtRsAAAANyMggUAAOBmFCwAAAA3o2ABAAC4GQULAADAzShYAAAAbkbBAgAAcDMKFgAAgJtRsAAAANyMggUAAOBmFCwAAAA3o2ABAAC4GQULAADAzShYAAAAbkbBAgAAcDMKFgAAgJv9/447j+IUDvaEAAAAAElFTkSuQmCC' width=600.0/>\n",
       "            </div>\n",
       "        "
      ],
      "text/plain": [
       "Canvas(toolbar=Toolbar(toolitems=[('Home', 'Reset original view', 'home', 'home'), ('Back', 'Back to previous …"
      ]
     },
     "metadata": {},
     "output_type": "display_data"
    }
   ],
   "source": [
    "display(m)\n",
    "# Print results\n",
    "display(label)\n",
    "radios = RadioButtons(options=[\"species 1\", \"species 2\", \"species 3\"],\n",
    "    description=\"Species:\",\n",
    "    disabled=False\n",
    ")\n",
    "\n",
    "radios2 = RadioButtons(options=[\"scenario 1\", \"scenario 2\", \"scenario 3\"],\n",
    "    description=\"Scenario:\",\n",
    "    disabled=False\n",
    ")\n",
    "\n",
    "display(radios)\n",
    "display(radios2)\n",
    "\n",
    "btn = Button(description=\"Simulate!\")\n",
    "out = Output()\n",
    "\n",
    "\n",
    "fig, ax = plt.subplots(figsize=(6,4))\n",
    "line, = ax.plot(np.linspace(0,10), np.linspace(0,10))\n",
    "title = ax.set_title(\"\")\n",
    "\n",
    "def update(change):\n",
    "    line.set_ydata(np.random.randint(0, 10, 50))\n",
    "    ax.set_title(f\"{radios.value}\")\n",
    "    fig.canvas.draw()\n",
    "    return\n",
    "\n",
    "#radios.observe(update, \"value\")\n",
    "\n",
    "btn.on_click(update)\n",
    "\n",
    "display(btn)\n",
    "\n"
   ]
  },
  {
   "cell_type": "markdown",
   "metadata": {},
   "source": [
    "ipyleaflet overview: https://blog.jupyter.org/interactive-gis-in-jupyter-with-ipyleaflet-52f9657fa7a"
   ]
  }
 ],
 "metadata": {
  "interpreter": {
   "hash": "b5671af813dc635b53a67f2e3d4efe0f95e539175588edebabe695289baa8ebd"
  },
  "kernelspec": {
   "display_name": "Python 3 (ipykernel)",
   "language": "python",
   "name": "python3"
  },
  "language_info": {
   "codemirror_mode": {
    "name": "ipython",
    "version": 3
   },
   "file_extension": ".py",
   "mimetype": "text/x-python",
   "name": "python",
   "nbconvert_exporter": "python",
   "pygments_lexer": "ipython3",
   "version": "3.9.9"
  }
 },
 "nbformat": 4,
 "nbformat_minor": 4
}

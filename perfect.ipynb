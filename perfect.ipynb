{
 "cells": [
  {
   "cell_type": "markdown",
   "metadata": {},
   "source": [
    "# Welcome to **PerfeCt** by AqADAPT team!\n",
    "### To generate the interactive map and simulation graphical user interface, click on the *Restart the kernel, then re-run the whole notebook* button above or run the cells below consecutively using *Shift+Enter*."
   ]
  },
  {
   "cell_type": "markdown",
   "metadata": {},
   "source": [
    "**Loading the neccesary libraries***"
   ]
  },
  {
   "cell_type": "code",
   "execution_count": 1,
   "metadata": {},
   "outputs": [],
   "source": [
    "%matplotlib widget\n",
    "from ipyleaflet import *\n",
    "import ipywidgets as widgets\n",
    "from ipywidgets import HTML, Layout, IntSlider, RadioButtons, Dropdown, Button, Output, Label, IntProgress\n",
    "from IPython.display import display\n",
    "import numpy as np\n",
    "import matplotlib.pyplot as plt\n",
    "import random\n",
    "import json\n",
    "from pathlib import Path as pth\n",
    "import pandas as pd\n",
    "from perfect.perfect import perfect_sim\n",
    "from vibrio.vibrio import calc_DRV\n",
    "from matplotlib.colors import ListedColormap, BoundaryNorm\n",
    "import matplotlib.patches as patches"
   ]
  },
  {
   "cell_type": "markdown",
   "metadata": {},
   "source": [
    "**Variable setup**"
   ]
  },
  {
   "cell_type": "code",
   "execution_count": 2,
   "metadata": {},
   "outputs": [],
   "source": [
    "x, y = 0, 0\n",
    "feature_clicked = False\n",
    "id_ = None\n",
    "\n",
    "with open('data/MED_farms/MED_farms_for_display.geojson', 'r') as f:\n",
    "    data_farms = json.load(f)\n",
    "with open('data/Natura2000_marine/Natura2000_marine_smooth.geojson', 'r') as f:\n",
    "    data_Natura = json.load(f)\n",
    "with open('data/MED_grid/MED_ter_10km_grid.geojson', 'r') as f:\n",
    "    data_grid = json.load(f)\n",
    "\n",
    "# data_list = list(pth(\"/mnt/DataDisk/TIME_SERIES\").glob(\"*.csv\"))\n",
    "time_series_dir = \"~/TIME_SERIES/\"\n",
    "species_db = pd.read_csv(\"data/deb_species_list.csv\", index_col=0)\n",
    "\n",
    "species_mi = {}\n",
    "for i in species_db.iloc:\n",
    "    if not np.isnan(i[\"MarketWeight\"]) and not np.isnan(i[\"InitialSize\"]):\n",
    "        species_mi[i[\"Name\"]] = {\n",
    "            \"MarketWeight\": i[\"MarketWeight\"],\n",
    "            \"InitialSize\": i[\"InitialSize\"]\n",
    "        }"
   ]
  },
  {
   "cell_type": "markdown",
   "metadata": {},
   "source": [
    "**Map setup**"
   ]
  },
  {
   "cell_type": "code",
   "execution_count": 3,
   "metadata": {},
   "outputs": [],
   "source": [
    "defaultLayout = Layout(width='1200px', height='500px')\n",
    "center = (40,20)\n",
    "icon = Icon(icon_url='', icon_size=[38, 95])\n",
    "m = Map(center=center,\n",
    "       basemap=basemaps.Esri.WorldImagery,\n",
    "        zoom=4,\n",
    "       layout=defaultLayout)\n",
    "\n",
    "species_label = Label(layout=Layout(width=\"100%\"))\n",
    "title_label = HTML(value = \"\"\"<p style='font-size:24px'>Welcome to PerfeCt!</p>\n",
    "                   <br> Instructions: Click on an existing aquaculture farm location or ...\"\"\")\n",
    "\n",
    "def handle_map_click(**kwargs):\n",
    "    if kwargs.get('type') == 'click':\n",
    "        global x\n",
    "        global y\n",
    "        global dummy_num\n",
    "        global feature_clicked\n",
    "        global temp_marker\n",
    "        \n",
    "        try:\n",
    "            m.remove_layer(temp_marker)\n",
    "        except:\n",
    "            pass\n",
    "        \n",
    "        if feature_clicked == True:\n",
    "            temp_marker = Marker(\n",
    "                    location=kwargs.get('coordinates'),\n",
    "                    icon=icon,\n",
    "                    name=\"Location info\")           \n",
    "            #print(\"You clicked on: \", kwargs.get('coordinates'))\n",
    "\n",
    "            x, y = kwargs.get('coordinates')\n",
    "            message = HTML()\n",
    "            message.value = f\"Coordinates: ({np.round(x,2)}, {np.round(y,2)})\"\n",
    "            species_label.value = f\"EEA field ID: {id_}\"\n",
    "            popup = Popup(\n",
    "                location=(x, y),\n",
    "                child=message,\n",
    "                close_button=True,\n",
    "                auto_close=True,\n",
    "                close_on_escape_key=True,\n",
    "                max_width = 500,\n",
    "                name = \"Location info\"\n",
    "            )\n",
    "            m.add_layer(popup)\n",
    "            m.add_layer(temp_marker)\n",
    "        feature_clicked=False\n",
    "        \n",
    "m.on_interaction(handle_map_click)\n",
    "\n",
    "geo_json_Natura = GeoJSON(\n",
    "    data=data_Natura,\n",
    "    style = {\n",
    "        \"fillOpacity\": 0.75, \"fillColor\": \"white\", \"color\": \"black\", \"weight\": 1.5 \n",
    "    },\n",
    "    name=\"Natura2000 sites\"\n",
    ")\n",
    "\n",
    "geo_json_grid = GeoJSON(\n",
    "    data=data_grid,\n",
    "    style = {\n",
    "        \"fillOpacity\": 0.75, \"fillColor\": \"#83d4e7\", \"color\": \"black\", \"weight\": 0, \"opacity\": 0.5 \n",
    "    },\n",
    "    hover_style = {\n",
    "        \"fillOpacity\": 0.75, \"fillColor\": \"orange\", \"color\": \"white\", \"weight\": 1, \"opacity\": 0.5 \n",
    "    },\n",
    "    name=\"Grid\"\n",
    ")\n",
    "\n",
    "geo_json_farms = GeoJSON(\n",
    "    data=data_farms,\n",
    "    name=\"Farm locations\"\n",
    ")\n",
    "\n",
    "def grid_click_handler(event=None, feature=None, id=None, properties=None):\n",
    "    global id_\n",
    "    global feature_clicked\n",
    "    \n",
    "    feature_clicked = True\n",
    "\n",
    "    try:\n",
    "        m.remove_layer(temp_marker)\n",
    "    except:\n",
    "        pass\n",
    "    \n",
    "    id_ = properties[\"CellCode\"]\n",
    "    #species_label.value = f\"Field: {name}\"\n",
    "\n",
    "def marker_click_handler(event=None, feature=None, id=None, properties=None):\n",
    "    global id_\n",
    "    global feature_clicked\n",
    "    global dummy_num\n",
    "    global x\n",
    "    global y\n",
    "\n",
    "    try:\n",
    "        m.remove_layer(temp_marker)\n",
    "    except:\n",
    "        pass\n",
    "    #name = properties[\"geounit\"]\n",
    "    \n",
    "    id_ = properties[\"farm_id\"]\n",
    "    \n",
    "    species = properties[\"species\"]\n",
    "    if species == None:\n",
    "        species = properties[\"species 1\"]\n",
    "    species_label.value = f\"Species produced: {species}\"\n",
    "    \n",
    "    x = properties[\"coordinates\"][1]\n",
    "    y = properties[\"coordinates\"][0]\n",
    "    \n",
    "    message = HTML()\n",
    "    message.value = f\"Coordinates: ({np.round(x,2)}, {np.round(y,2)}) <br> Species: {species[species.find('(')+1:species.find(')')]}\"\n",
    "    popup = Popup(\n",
    "            location=(x, y),\n",
    "            child=message,\n",
    "            close_button=True,\n",
    "            auto_close=True,\n",
    "            close_on_escape_key=True,\n",
    "            max_width = 500,\n",
    "            name = \"Location info\"\n",
    "        )\n",
    "    \n",
    "    m.add_layer(popup)\n",
    "    \n",
    "geo_json_farms.on_click(marker_click_handler)\n",
    "geo_json_grid.on_click(grid_click_handler)\n",
    "\n",
    "m.add_layer(geo_json_Natura)\n",
    "m.add_layer(geo_json_grid)\n",
    "m.add_layer(geo_json_farms)\n",
    "\n",
    "control = LayersControl(position='topright')\n",
    "m.add_control(control)"
   ]
  },
  {
   "cell_type": "markdown",
   "metadata": {},
   "source": [
    "**Simulation GUI setup**"
   ]
  },
  {
   "cell_type": "code",
   "execution_count": 6,
   "metadata": {},
   "outputs": [
    {
     "data": {
      "application/vnd.jupyter.widget-view+json": {
       "model_id": "1df6b82da5764635b4b223a791653131",
       "version_major": 2,
       "version_minor": 0
      },
      "text/plain": [
       "HTML(value=\"<p style='font-size:24px'>Welcome to PerfeCt!</p>\\n                   <br> Instructions: Click on …"
      ]
     },
     "metadata": {},
     "output_type": "display_data"
    },
    {
     "data": {
      "application/vnd.jupyter.widget-view+json": {
       "model_id": "a7391ce8ca634fc1a0ca089a99290cb1",
       "version_major": 2,
       "version_minor": 0
      },
      "text/plain": [
       "Map(bottom=1801.0, center=[40, 20], controls=(ZoomControl(options=['position', 'zoom_in_text', 'zoom_in_title'…"
      ]
     },
     "metadata": {},
     "output_type": "display_data"
    },
    {
     "data": {
      "application/vnd.jupyter.widget-view+json": {
       "model_id": "93b8656214f047699b6c46f10732fd77",
       "version_major": 2,
       "version_minor": 0
      },
      "text/plain": [
       "Label(value='', layout=Layout(width='100%'))"
      ]
     },
     "metadata": {},
     "output_type": "display_data"
    },
    {
     "data": {
      "application/vnd.jupyter.widget-view+json": {
       "model_id": "42df31ebd02c4c33a3b7e75b995c3c96",
       "version_major": 2,
       "version_minor": 0
      },
      "text/plain": [
       "Dropdown(description='Species:', options=('Argyrosomus_regius', 'Dentex_dentex', 'Dicentrarchus_labrax', 'Dipl…"
      ]
     },
     "metadata": {},
     "output_type": "display_data"
    },
    {
     "data": {
      "application/vnd.jupyter.widget-view+json": {
       "model_id": "edfa2449223147d28a82e17437f8d3bd",
       "version_major": 2,
       "version_minor": 0
      },
      "text/plain": [
       "RadioButtons(description='Scenario:', options=('RCP4.5', 'RCP8.5'), value='RCP4.5')"
      ]
     },
     "metadata": {},
     "output_type": "display_data"
    },
    {
     "data": {
      "application/vnd.jupyter.widget-view+json": {
       "model_id": "d3183020c69347adbf151b9bc355afd5",
       "version_major": 2,
       "version_minor": 0
      },
      "text/plain": [
       "Button(button_style='primary', description='Simulate!', style=ButtonStyle())"
      ]
     },
     "metadata": {},
     "output_type": "display_data"
    },
    {
     "data": {
      "application/vnd.jupyter.widget-view+json": {
       "model_id": "af7094ad13384433a1653416e440c6cc",
       "version_major": 2,
       "version_minor": 0
      },
      "text/plain": [
       "IntProgress(value=0, max=4)"
      ]
     },
     "metadata": {},
     "output_type": "display_data"
    },
    {
     "data": {
      "application/vnd.jupyter.widget-view+json": {
       "model_id": "25e9447c1d36410ea8ec277e711d1f19",
       "version_major": 2,
       "version_minor": 0
      },
      "image/png": "[encoded data removed]",
      "text/html": [
       "\n",
       "            <div style=\"display: inline-block;\">\n",
       "                <div class=\"jupyter-widgets widget-label\" style=\"text-align: center;\">\n",
       "                    Figure\n",
       "                </div>\n",
       "                <img src='data:image/png;base64,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' width=1200.0/>\n",
       "            </div>\n",
       "        "
      ],
      "text/plain": [
       "Canvas(toolbar=Toolbar(toolitems=[('Home', 'Reset original view', 'home', 'home'), ('Back', 'Back to previous …"
      ]
     },
     "metadata": {},
     "output_type": "display_data"
    }
   ],
   "source": [
    "display(title_label)\n",
    "display(m)\n",
    "# Print results\n",
    "display(species_label)\n",
    "\n",
    "options = list(species_mi.keys())\n",
    "\n",
    "scenarios = [\"RCP4.5\", \"RCP8.5\"]\n",
    "\n",
    "dropdown = Dropdown(\n",
    "    options=options,\n",
    "    value = options[0],\n",
    "    description = \"Species:\",\n",
    "    disabled = False)\n",
    "\n",
    "radios = RadioButtons(\n",
    "    options=scenarios,\n",
    "    description=\"Scenario:\",\n",
    "    disabled=False\n",
    ")\n",
    "\n",
    "btn = Button(description=\"Simulate!\", button_style=\"primary\")\n",
    "out = Output()\n",
    "\n",
    "progress = IntProgress(min = 0, max=4)\n",
    "\n",
    "display(dropdown)\n",
    "display(radios)\n",
    "display(btn)\n",
    "display(progress)\n",
    "\n",
    "max_y = 25\n",
    "\n",
    "x_data = np.arange(2022, 2022+max_y, 1)\n",
    "fig, ax = plt.subplots(nrows=1, ncols=3, figsize=(12, 6))\n",
    "stem1 = ax[1].stem(x_data, np.zeros(max_y))\n",
    "stem2 = ax[0].stem(x_data, np.zeros(max_y))\n",
    "stem3 = ax[2].stem(x_data, np.zeros(max_y))\n",
    "title1 = ax[1].set_title(\"Time to market\")\n",
    "title2 = ax[0].set_title(\"Feed conversion ratio change\")\n",
    "title3 = ax[2].set_title(\"Vibriosis risk\")\n",
    "ax[0].set_ylim(-100, 100)\n",
    "ax[1].set_ylim(-100, 100)\n",
    "ax[2].set_ylim(-100, 100)\n",
    "ax[0].set_ylabel(\"Change [ %, days, days]\")\n",
    "ax[0].set_xlabel(\"Year\")\n",
    "ax[1].set_xlabel(\"Year\")\n",
    "ax[2].set_xlabel(\"Year\")\n",
    "fig.suptitle(\"Simulation results\")\n",
    "\n",
    "rect = patches.Rectangle((2022, 0), max_y, -100, linewidth=1, edgecolor='g', facecolor='g', alpha=.1)\n",
    "ax[0].add_patch(rect)\n",
    "rect = patches.Rectangle((2022, 0), max_y, 100, linewidth=1, edgecolor='r', facecolor='r', alpha=.1)\n",
    "ax[0].add_patch(rect)\n",
    "\n",
    "rect = patches.Rectangle((2022, 0), max_y, -100, linewidth=1, edgecolor='g', facecolor='g', alpha=.1)\n",
    "ax[1].add_patch(rect)\n",
    "rect = patches.Rectangle((2022, 0), max_y, 100, linewidth=1, edgecolor='r', facecolor='r', alpha=.1)\n",
    "ax[1].add_patch(rect)\n",
    "\n",
    "rect = patches.Rectangle((2022, 0), max_y, -100, linewidth=1, edgecolor='g', facecolor='g', alpha=.1)\n",
    "ax[2].add_patch(rect)\n",
    "rect = patches.Rectangle((2022, 0), max_y, 100, linewidth=1, edgecolor='r', facecolor='r', alpha=.1)\n",
    "ax[2].add_patch(rect)\n",
    "\n",
    "\n",
    "last_species = \"\"\n",
    "\n",
    "\n",
    "def update(change):\n",
    "    progress.value = 0\n",
    "    progress.value +=1\n",
    "    try:\n",
    "        data_file = time_series_dir + f\"id_{id_:03d}.csv\"\n",
    "    except:\n",
    "        data_file = time_series_dir + f\"id_{id_}.csv\"\n",
    "    species = dropdown.value\n",
    "    \n",
    "    ttm45, ttm85, fcr45, fcr85 = perfect_sim(data_file, species, species_mi[species])\n",
    "    progress.value +=1\n",
    "    \n",
    "    vibrio45, vibrio85 = calc_DRV(data_file)\n",
    "    progress.value +=1\n",
    "\n",
    "    if radios.value == \"RCP4.5\":\n",
    "        y_data = ttm45[:max_y]-ttm45[0]\n",
    "        stem1[0].set_ydata(y_data)\n",
    "        stem1[1].set_paths(\n",
    "            [np.array([[xx, 0], [xx, yy]]) for (xx, yy) in zip(x_data, y_data)])\n",
    "        ax[1].set_ylim(np.min(y_data)-5, np.max(y_data)+5)\n",
    "        \n",
    "        y_data = ((fcr45[:max_y]/fcr45[0]) -1)*100\n",
    "        stem2[0].set_ydata(y_data)\n",
    "        stem2[1].set_paths(\n",
    "            [np.array([[xx, 0], [xx, yy]]) for (xx, yy) in zip(x_data, y_data)])\n",
    "        ax[0].set_ylim(np.min(y_data)-5, np.max(y_data)+5)\n",
    "        \n",
    "        y_data = (vibrio45[:max_y]-vibrio45[0])\n",
    "        stem3[0].set_ydata(y_data)\n",
    "        stem3[1].set_paths(\n",
    "            [np.array([[xx, 0], [xx, yy]]) for (xx, yy) in zip(x_data, y_data)])\n",
    "        ax[2].set_ylim(np.min(y_data)-5, np.max(y_data)+5)\n",
    "\n",
    "    if radios.value == \"RCP8.5\":\n",
    "        y_data = ttm85[:max_y]-ttm85[0]\n",
    "        stem1[0].set_ydata(ttm85[:max_y]-ttm85[0])\n",
    "        stem1[1].set_paths(\n",
    "            [np.array([[xx, 0], [xx, yy]]) for (xx, yy) in zip(x_data, y_data)])\n",
    "        ax[1].set_ylim(np.min(y_data)-5, np.max(y_data)+5)\n",
    "        \n",
    "        y_data = ((fcr85[:max_y]/fcr85[0]) -1)*100\n",
    "        stem2[0].set_ydata(y_data)\n",
    "        stem2[1].set_paths(\n",
    "            [np.array([[xx, 0], [xx, yy]]) for (xx, yy) in zip(x_data, y_data)])\n",
    "        ax[0].set_ylim(np.min(y_data)-5, np.max(y_data)+5)\n",
    "        \n",
    "        y_data = (vibrio85[:max_y]-vibrio85[0])\n",
    "        stem3[0].set_ydata(y_data)\n",
    "        stem3[1].set_paths(\n",
    "            [np.array([[xx, 0], [xx, yy]]) for (xx, yy) in zip(x_data, y_data)])\n",
    "        ax[2].set_ylim(np.min(y_data)-5, np.max(y_data)+5)                    \n",
    "        \n",
    "    ax[1].set_title(f\"Time to market\")\n",
    "    ax[0].set_title(f\"Feed conversion ratio change\")\n",
    "    ax[2].set_title(f\"Vibriosis risk\")\n",
    "    fig.suptitle(\"$\\it{\"+str(dropdown.value.replace(\"_\", \"\\:\"))+\"}$\"+ f\" - Simulation results for location ({np.round(x,2)}, {np.round(y,2)}) - {radios.value}\")\n",
    "    fig.canvas.draw()\n",
    "    progress.value+=1\n",
    "\n",
    "    # ttm45, ttm85, fcr45, fcr85 = perfect_sim(data_file, species, species_mi[species])\n",
    "    return\n",
    "\n",
    "\n",
    "btn.on_click(update)"
   ]
  },
  {
   "cell_type": "code",
   "execution_count": null,
   "metadata": {},
   "outputs": [],
   "source": []
  }
 ],
 "metadata": {
  "interpreter": {
   "hash": "c9dea729eb3ee4cd7f07f186621811e52425eecfcfe1e8159534b887007bd691"
  },
  "kernelspec": {
   "display_name": "Python 3 (ipykernel)",
   "language": "python",
   "name": "python3"
  },
  "language_info": {
   "codemirror_mode": {
    "name": "ipython",
    "version": 3
   },
   "file_extension": ".py",
   "mimetype": "text/x-python",
   "name": "python",
   "nbconvert_exporter": "python",
   "pygments_lexer": "ipython3",
   "version": "3.9.10"
  }
 },
 "nbformat": 4,
 "nbformat_minor": 4
}

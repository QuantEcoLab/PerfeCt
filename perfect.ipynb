{
 "cells": [
  {
   "cell_type": "markdown",
   "metadata": {},
   "source": [
    "# Welcome to **PERfeCt** by AqADAPT team!\n",
    "### To generate the interactive map and simulation graphical user interface, click on the *Restart the kernel, then re-run the whole notebook* button above or run the cells below consecutively using *Shift+Enter*."
   ]
  },
  {
   "cell_type": "markdown",
   "metadata": {},
   "source": [
    "**Loading the neccesary libraries***"
   ]
  },
  {
   "cell_type": "code",
   "execution_count": 1,
   "metadata": {},
   "outputs": [],
   "source": [
    "#%matplotlib inline\n",
    "%matplotlib widget\n",
    "from ipyleaflet import *\n",
    "import ipywidgets as widgets\n",
    "from ipywidgets import HTML, Layout, IntSlider, RadioButtons, Dropdown, Button, Output, Label\n",
    "from IPython.display import display\n",
    "import numpy as np\n",
    "import matplotlib.pyplot as plt\n",
    "import random\n",
    "import json\n",
    "from pathlib import Path as pth\n",
    "import pandas as pd\n",
    "from perfect.perfect import perfect_sim"
   ]
  },
  {
   "cell_type": "markdown",
   "metadata": {},
   "source": [
    "**Variable setup**"
   ]
  },
  {
   "cell_type": "code",
   "execution_count": 2,
   "metadata": {},
   "outputs": [],
   "source": [
    "x, y = 0, 0\n",
    "feature_clicked = False\n",
    "id_ = None\n",
    "\n",
    "with open('data/MED_farms/MED_farms_for_display.geojson', 'r') as f:\n",
    "    data_farms = json.load(f)\n",
    "with open('data/Natura2000_marine/Natura2000_marine_smooth.geojson', 'r') as f:\n",
    "    data_Natura = json.load(f)\n",
    "with open('data/MED_grid/MED_ter_10km_grid.geojson', 'r') as f:\n",
    "    data_grid = json.load(f)\n",
    "\n",
    "data_list = list(pth(\"/mnt/DataDisk/grid_time_series\").glob(\"*.csv\"))\n",
    "species_db = pd.read_csv(\"data/deb_species_list.csv\", index_col=0)\n",
    "\n",
    "species_mi = {}\n",
    "for i in species_db.iloc:\n",
    "    if not np.isnan(i[\"MarketWeight\"]) and not np.isnan(i[\"InitialSize\"]):\n",
    "        species_mi[i[\"Name\"]] = {\n",
    "            \"MarketWeight\": i[\"MarketWeight\"],\n",
    "            \"InitialSize\": i[\"InitialSize\"]\n",
    "        }"
   ]
  },
  {
   "cell_type": "markdown",
   "metadata": {},
   "source": [
    "**Map setup**"
   ]
  },
  {
   "cell_type": "code",
   "execution_count": 3,
   "metadata": {},
   "outputs": [],
   "source": [
    "defaultLayout = Layout(width='1200px', height='500px')\n",
    "center = (40,20)\n",
    "icon = Icon(icon_url='', icon_size=[38, 95])\n",
    "m = Map(center=center,\n",
    "       basemap=basemaps.Esri.WorldImagery,\n",
    "        zoom=4,\n",
    "       layout=defaultLayout)\n",
    "\n",
    "species_label = Label(layout=Layout(width=\"100%\"))\n",
    "title_label = HTML(value = \"\"\"<p style='font-size:24px'>Welcome to PERfeCt!</p>\n",
    "                   <br> Instructions: Click on an existing aquaculture farm location or ...\"\"\")\n",
    "\n",
    "def handle_map_click(**kwargs):\n",
    "    if kwargs.get('type') == 'click':\n",
    "        global x\n",
    "        global y\n",
    "        global dummy_num\n",
    "        global feature_clicked\n",
    "        global temp_marker\n",
    "        \n",
    "        try:\n",
    "            m.remove_layer(temp_marker)\n",
    "        except:\n",
    "            pass\n",
    "        \n",
    "        if feature_clicked == True:\n",
    "            temp_marker = Marker(\n",
    "                    location=kwargs.get('coordinates'),\n",
    "                    icon=icon,\n",
    "                    name=\"Location info\")           \n",
    "            #print(\"You clicked on: \", kwargs.get('coordinates'))\n",
    "\n",
    "            x, y = kwargs.get('coordinates')\n",
    "            message = HTML()\n",
    "            message.value = f\"Coordinates: ({np.round(x,2)}, {np.round(y,2)})\"\n",
    "            species_label.value = f\"EEA field ID: {id_}\"\n",
    "            popup = Popup(\n",
    "                location=(x, y),\n",
    "                child=message,\n",
    "                close_button=True,\n",
    "                auto_close=True,\n",
    "                close_on_escape_key=True,\n",
    "                max_width = 500,\n",
    "                name = \"Location info\"\n",
    "            )\n",
    "            m.add_layer(popup)\n",
    "            m.add_layer(temp_marker)\n",
    "        feature_clicked=False\n",
    "        \n",
    "m.on_interaction(handle_map_click)\n",
    "\n",
    "geo_json_Natura = GeoJSON(\n",
    "    data=data_Natura,\n",
    "    style = {\n",
    "        \"fillOpacity\": 0.75, \"fillColor\": \"white\", \"color\": \"black\", \"weight\": 1.5 \n",
    "    },\n",
    "    name=\"Natura2000 sites\"\n",
    ")\n",
    "\n",
    "geo_json_grid = GeoJSON(\n",
    "    data=data_grid,\n",
    "    style = {\n",
    "        \"fillOpacity\": 0.75, \"fillColor\": \"#83d4e7\", \"color\": \"black\", \"weight\": 0, \"opacity\": 0.5 \n",
    "    },\n",
    "    hover_style = {\n",
    "        \"fillOpacity\": 0.75, \"fillColor\": \"orange\", \"color\": \"white\", \"weight\": 1, \"opacity\": 0.5 \n",
    "    },\n",
    "    name=\"Grid\"\n",
    ")\n",
    "\n",
    "geo_json_farms = GeoJSON(\n",
    "    data=data_farms,\n",
    "    name=\"Farm locations\"\n",
    ")\n",
    "\n",
    "def grid_click_handler(event=None, feature=None, id=None, properties=None):\n",
    "    global id_\n",
    "    global feature_clicked\n",
    "    \n",
    "    feature_clicked = True\n",
    "\n",
    "    try:\n",
    "        m.remove_layer(temp_marker)\n",
    "    except:\n",
    "        pass\n",
    "    \n",
    "    id_ = properties[\"CellCode\"]\n",
    "    #species_label.value = f\"Field: {name}\"\n",
    "\n",
    "def marker_click_handler(event=None, feature=None, id=None, properties=None):\n",
    "    global id_\n",
    "    global feature_clicked\n",
    "    global dummy_num\n",
    "    global x\n",
    "    global y\n",
    "\n",
    "    try:\n",
    "        m.remove_layer(temp_marker)\n",
    "    except:\n",
    "        pass\n",
    "    #name = properties[\"geounit\"]\n",
    "    \n",
    "    id_ = properties[\"farm_id\"]\n",
    "    \n",
    "    species = properties[\"species\"]\n",
    "    if species == None:\n",
    "        species = properties[\"species 1\"]\n",
    "    species_label.value = f\"Species produced: {species}\"\n",
    "    \n",
    "    x = properties[\"coordinates\"][1]\n",
    "    y = properties[\"coordinates\"][0]\n",
    "    \n",
    "    message = HTML()\n",
    "    message.value = f\"Coordinates: ({np.round(x,2)}, {np.round(y,2)}) <br> Species: {species[species.find('(')+1:species.find(')')]}\"\n",
    "    popup = Popup(\n",
    "            location=(x, y),\n",
    "            child=message,\n",
    "            close_button=True,\n",
    "            auto_close=True,\n",
    "            close_on_escape_key=True,\n",
    "            max_width = 500,\n",
    "            name = \"Location info\"\n",
    "        )\n",
    "    \n",
    "    m.add_layer(popup)\n",
    "    \n",
    "geo_json_farms.on_click(marker_click_handler)\n",
    "geo_json_grid.on_click(grid_click_handler)\n",
    "\n",
    "m.add_layer(geo_json_Natura)\n",
    "m.add_layer(geo_json_grid)\n",
    "m.add_layer(geo_json_farms)\n",
    "\n",
    "control = LayersControl(position='topright')\n",
    "m.add_control(control)"
   ]
  },
  {
   "cell_type": "markdown",
   "metadata": {},
   "source": [
    "**Simulation GUI setup**"
   ]
  },
  {
   "cell_type": "code",
   "execution_count": 7,
   "metadata": {},
   "outputs": [
    {
     "data": {
      "application/vnd.jupyter.widget-view+json": {
       "model_id": "4b32cfd554ca4c77b4f53ece201fdd6e",
       "version_major": 2,
       "version_minor": 0
      },
      "text/plain": [
       "HTML(value=\"<p style='font-size:24px'>Welcome to PERfeCt!</p>\\n                   <br> Instructions: Click on …"
      ]
     },
     "metadata": {},
     "output_type": "display_data"
    },
    {
     "data": {
      "application/vnd.jupyter.widget-view+json": {
       "model_id": "c0791d9efa464875bb490f24e96cbac0",
       "version_major": 2,
       "version_minor": 0
      },
      "text/plain": [
       "Map(bottom=1801.0, center=[40, 20], controls=(ZoomControl(options=['position', 'zoom_in_text', 'zoom_in_title'…"
      ]
     },
     "metadata": {},
     "output_type": "display_data"
    },
    {
     "data": {
      "application/vnd.jupyter.widget-view+json": {
       "model_id": "36b7429465054991a0c7a287bc0a8eb1",
       "version_major": 2,
       "version_minor": 0
      },
      "text/plain": [
       "Label(value='', layout=Layout(width='100%'))"
      ]
     },
     "metadata": {},
     "output_type": "display_data"
    },
    {
     "data": {
      "application/vnd.jupyter.widget-view+json": {
       "model_id": "6678be9639404693bf68176a41a2f8f4",
       "version_major": 2,
       "version_minor": 0
      },
      "text/plain": [
       "Dropdown(description='Species:', options=('Argyrosomus_regius', 'Dentex_dentex', 'Dicentrarchus_labrax', 'Dipl…"
      ]
     },
     "metadata": {},
     "output_type": "display_data"
    },
    {
     "data": {
      "application/vnd.jupyter.widget-view+json": {
       "model_id": "2a338a544e2f4c3092615ee5ca90a768",
       "version_major": 2,
       "version_minor": 0
      },
      "text/plain": [
       "RadioButtons(description='Scenario:', options=('RCP4.5', 'RCP8.5'), value='RCP4.5')"
      ]
     },
     "metadata": {},
     "output_type": "display_data"
    },
    {
     "data": {
      "application/vnd.jupyter.widget-view+json": {
       "model_id": "97c3383eacbe423e9d9d24dd411243fe",
       "version_major": 2,
       "version_minor": 0
      },
      "text/plain": [
       "Button(description='Simulate!', style=ButtonStyle())"
      ]
     },
     "metadata": {},
     "output_type": "display_data"
    },
    {
     "data": {
      "application/vnd.jupyter.widget-view+json": {
       "model_id": "356e54353300476eaa4c763a2a8a0ff0",
       "version_major": 2,
       "version_minor": 0
      },
      "image/png": "[encoded data removed]",
      "text/html": [
       "\n",
       "            <div style=\"display: inline-block;\">\n",
       "                <div class=\"jupyter-widgets widget-label\" style=\"text-align: center;\">\n",
       "                    Figure\n",
       "                </div>\n",
       "                <img src='data:image/png;base64,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' width=1200.0/>\n",
       "            </div>\n",
       "        "
      ],
      "text/plain": [
       "Canvas(toolbar=Toolbar(toolitems=[('Home', 'Reset original view', 'home', 'home'), ('Back', 'Back to previous …"
      ]
     },
     "metadata": {},
     "output_type": "display_data"
    }
   ],
   "source": [
    "display(title_label)\n",
    "display(m)\n",
    "# Print results\n",
    "display(species_label)\n",
    "\n",
    "options = list(species_mi.keys())\n",
    "\n",
    "scenarios = [\"RCP4.5\", \"RCP8.5\"]\n",
    "\n",
    "dropdown = Dropdown(\n",
    "    options=options,\n",
    "    value = options[0],\n",
    "    description = \"Species:\",\n",
    "    disabled = False)\n",
    "\n",
    "radios = RadioButtons(\n",
    "    options=scenarios,\n",
    "    description=\"Scenario:\",\n",
    "    disabled=False\n",
    ")\n",
    "\n",
    "display(dropdown)\n",
    "display(radios)\n",
    "\n",
    "btn = Button(description=\"Simulate!\")\n",
    "out = Output()\n",
    "\n",
    "display(btn)\n",
    "\n",
    "fig, ax = plt.subplots(nrows=1, ncols=3, figsize=(12, 6))\n",
    "stem1 = ax[0].stem(np.arange(0, 30, 1), np.zeros(30))\n",
    "stem2 = ax[1].stem(np.arange(0, 30, 1), np.zeros(30))\n",
    "stem3 = ax[2].stem(np.arange(0, 30, 1), np.zeros(30))\n",
    "title1 = ax[0].set_title(\"Time to reach market size\")\n",
    "title2 = ax[1].set_title(\"Feed conversion ratio change\")\n",
    "title3 = ax[2].set_title(\"Vibriosis risk\")\n",
    "# ax[0].set_ylim(0, 10)\n",
    "# ax[1].set_ylim(0, 10)\n",
    "# ax[2].set_ylim(0, 10)\n",
    "fig.suptitle(\"Simulation results\")\n",
    "\n",
    "\n",
    "data_file = data_list[0]\n",
    "\n",
    "def update(change):\n",
    "    species = dropdown.value\n",
    "    \n",
    "    ttm45, ttm85, fcr45, fcr85 = perfect_sim(data_file, species, species_mi[species])\n",
    "\n",
    "    if radios.value == \"RCP4.5\":\n",
    "        stem1[0].set_ydata(np.arange(0, len(ttm45), 1), ttm45)\n",
    "        # bar2[i].set_heads(np.random.randint(1, 10, 1))\n",
    "        \n",
    "    ax[0].set_title(f\"Time to market size {dropdown.value} - {radios.value}\")\n",
    "    ax[1].set_title(f\"Feed conversion ratio change - {radios.value}\")\n",
    "    ax[2].set_title(f\"Vibriosis risk - {radios.value}\")\n",
    "    fig.suptitle(f\"Simulation results for location ({np.round(x,2)}, {np.round(y,2)})\")\n",
    "    fig.canvas.draw()\n",
    "\n",
    "    # ttm45, ttm85, fcr45, fcr85 = perfect_sim(data_file, species, species_mi[species])\n",
    "    return\n",
    "\n",
    "\n",
    "#line1, = ax[0].plot(np.linspace(0,10), np.linspace(0,10))\n",
    "#line2, = ax[1].plot(np.linspace(0,10), np.linspace(0,10))\n",
    "\n",
    "\n",
    "def update1(change):\n",
    "    line1.set_ydata(np.random.randint(0, 10, 50))\n",
    "    line2.set_ydata(np.random.randint(0, 10, 50))\n",
    "    ax[0].set_title(f\"Time to market size {dropdown.value} - {radios.value}\")\n",
    "    ax[1].set_title(f\"Vibriosis risk - {radios.value}\")\n",
    "    fig.canvas.draw()\n",
    "    return\n",
    "\n",
    "#radios.observe(update, \"value\")\n",
    "\n",
    "btn.on_click(update)"
   ]
  },
  {
   "cell_type": "code",
   "execution_count": null,
   "metadata": {},
   "outputs": [],
   "source": []
  }
 ],
 "metadata": {
  "interpreter": {
   "hash": "c9dea729eb3ee4cd7f07f186621811e52425eecfcfe1e8159534b887007bd691"
  },
  "kernelspec": {
   "display_name": "Python 3 (ipykernel)",
   "language": "python",
   "name": "python3"
  },
  "language_info": {
   "codemirror_mode": {
    "name": "ipython",
    "version": 3
   },
   "file_extension": ".py",
   "mimetype": "text/x-python",
   "name": "python",
   "nbconvert_exporter": "python",
   "pygments_lexer": "ipython3",
   "version": "3.9.10"
  }
 },
 "nbformat": 4,
 "nbformat_minor": 4
}

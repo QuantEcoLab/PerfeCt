{
 "cells": [
  {
   "cell_type": "markdown",
   "metadata": {},
   "source": [
    "# Welcome to **PerfeCt** by AqADAPT team!\n",
    "### To generate the interactive map and simulation graphical user interface, click on the *Restart the kernel, then re-run the whole notebook* button above or run the cells below consecutively using *Shift+Enter*."
   ]
  },
  {
   "cell_type": "markdown",
   "metadata": {},
   "source": [
    "**Loading the neccesary libraries**  \n",
    "This cell loads all the necessary libraries for map display, interactive widgets handling, calculations, simulations and visualizations on Blue-Cloud."
   ]
  },
  {
   "cell_type": "code",
   "execution_count": 1,
   "metadata": {},
   "outputs": [],
   "source": [
    "%matplotlib widget\n",
    "from ipyleaflet import *\n",
    "import ipywidgets as widgets\n",
    "from ipywidgets import HTML, Layout, IntSlider, RadioButtons, Dropdown, Button, Output, Label, IntProgress\n",
    "from IPython.display import display\n",
    "import numpy as np\n",
    "import matplotlib.pyplot as plt\n",
    "import random\n",
    "import json\n",
    "from pathlib import Path as pth\n",
    "import pandas as pd\n",
    "from perfect.perfect import perfect_sim\n",
    "from vibrio.vibrio import calc_DRV\n",
    "from matplotlib.colors import ListedColormap, BoundaryNorm\n",
    "import matplotlib.patches as patches"
   ]
  },
  {
   "cell_type": "markdown",
   "metadata": {},
   "source": [
    "**Variable setup**  \n",
    "In this cell global variables are defined. This cell loads data on farm locations in the Mediterranean, Natura 2000 sites, and a custom 10 km x 10 km grid created for the possible farm locations in the Mediterranean based on the standard EEA grid. Moreover, timeseries data and species parameters necessary for simulations are loaded here."
   ]
  },
  {
   "cell_type": "code",
   "execution_count": 2,
   "metadata": {},
   "outputs": [],
   "source": [
    "x, y = 0, 0\n",
    "feature_clicked = False\n",
    "id_ = None\n",
    "\n",
    "with open('data/MED_farms/MED_farms_for_display.geojson', 'r') as f:\n",
    "    data_farms = json.load(f)\n",
    "with open('data/Natura2000_marine/Natura2000_marine_smooth.geojson', 'r') as f:\n",
    "    data_Natura = json.load(f)\n",
    "with open('data/MED_grid/MED_ter_10km_grid.geojson', 'r') as f:\n",
    "    data_grid = json.load(f)\n",
    "\n",
    "# LOCAL pathing\n",
    "time_series_dir_past = \"/mnt/DataDisk/TIME_SERIES_PAST/\"\n",
    "time_series_dir_future = \"/mnt/DataDisk/TIME_SERIES/\"\n",
    "\n",
    "# BLUECLOUD pathing\n",
    "# time_series_dir_past = \"data/TIME_SERIES_PAST/TIME_SERIES_PAST/\"\n",
    "# time_series_dir_future = \"data/TIME_SERIES/TIME_SERIES/\"\n",
    "\n",
    "species_db = pd.read_csv(\"data/deb_species_list.csv\", index_col=0)\n",
    "\n",
    "species_mi = {}\n",
    "for i in species_db.iloc:\n",
    "    if not np.isnan(i[\"MarketWeight\"]) and not np.isnan(i[\"InitialSize\"]):\n",
    "        species_mi[i[\"Name\"]] = {\n",
    "            \"MarketWeight\": i[\"MarketWeight\"],\n",
    "            \"InitialSize\": i[\"InitialSize\"]\n",
    "        }"
   ]
  },
  {
   "cell_type": "markdown",
   "metadata": {},
   "source": [
    "**Map setup**  \n",
    "The basic layers of the PerfeCt service are added to the map and map interaction event handling functions are created."
   ]
  },
  {
   "cell_type": "code",
   "execution_count": 3,
   "metadata": {},
   "outputs": [],
   "source": [
    "defaultLayout = Layout(width='1200px', height='500px')\n",
    "center = (40,20)\n",
    "icon = Icon(icon_url='', icon_size=[38, 95])\n",
    "m = Map(center=center,\n",
    "       basemap=basemaps.Esri.WorldImagery,\n",
    "        zoom=4,\n",
    "       layout=defaultLayout)\n",
    "\n",
    "species_label = Label(layout=Layout(width=\"100%\"))\n",
    "title_label = HTML(value = \"\"\"<p style='font-size:24px'>Welcome to PerfeCt!</p>\n",
    "\n",
    "                   <p style='font-size:16px'> Instructions: </p>\n",
    "                   <ol style='font-size:16px'><li>Click on an existing aquaculture farm denoted \n",
    "                   by blue markers or choose a blue square as a new farm location in \n",
    "                   the Mediterranean (zoom in for easier selection).</li> \n",
    "                   <li>Choose a fish species and a climate change scenario for which you would like to see the\n",
    "                   model simulation results.</li>\n",
    "                   <li>Click the Blue \"Simulate!\" button.</li>\n",
    "                   <li>Wait up to 40 seconds to see the simulation results.</li>\n",
    "                   </ol>\n",
    "                   <p style='font-size:16px'>\n",
    "                   Feel free to explore around the Mediterranean!\n",
    "                   </p>\n",
    "                   \n",
    "                   \"\"\")\n",
    "\n",
    "def handle_map_click(**kwargs):\n",
    "    if kwargs.get('type') == 'click':\n",
    "        global x\n",
    "        global y\n",
    "        global dummy_num\n",
    "        global feature_clicked\n",
    "        global temp_marker\n",
    "        \n",
    "        try:\n",
    "            m.remove_layer(temp_marker)\n",
    "        except:\n",
    "            pass\n",
    "        \n",
    "        if feature_clicked == True:\n",
    "            temp_marker = Marker(\n",
    "                    location=kwargs.get('coordinates'),\n",
    "                    icon=icon,\n",
    "                    name=\"Location info\")           \n",
    "            #print(\"You clicked on: \", kwargs.get('coordinates'))\n",
    "\n",
    "            x, y = kwargs.get('coordinates')\n",
    "            message = HTML()\n",
    "            message.value = f\"Coordinates: ({np.round(x,2)}, {np.round(y,2)})\"\n",
    "            species_label.value = f\"EEA field ID: {id_}\"\n",
    "            popup = Popup(\n",
    "                location=(x, y),\n",
    "                child=message,\n",
    "                close_button=True,\n",
    "                auto_close=True,\n",
    "                close_on_escape_key=True,\n",
    "                max_width = 500,\n",
    "                name = \"Location info\"\n",
    "            )\n",
    "            m.add_layer(popup)\n",
    "            m.add_layer(temp_marker)\n",
    "        feature_clicked=False\n",
    "        \n",
    "m.on_interaction(handle_map_click)\n",
    "\n",
    "geo_json_Natura = GeoJSON(\n",
    "    data=data_Natura,\n",
    "    style = {\n",
    "        \"fillOpacity\": 0.75, \"fillColor\": \"white\", \"color\": \"black\", \"weight\": 1.5 \n",
    "    },\n",
    "    name=\"Natura2000 sites\"\n",
    ")\n",
    "\n",
    "geo_json_grid = GeoJSON(\n",
    "    data=data_grid,\n",
    "    style = {\n",
    "        \"fillOpacity\": 0.75, \"fillColor\": \"#83d4e7\", \"color\": \"black\", \"weight\": 0, \"opacity\": 0.5 \n",
    "    },\n",
    "    hover_style = {\n",
    "        \"fillOpacity\": 0.75, \"fillColor\": \"orange\", \"color\": \"white\", \"weight\": 1, \"opacity\": 0.5 \n",
    "    },\n",
    "    name=\"Grid\"\n",
    ")\n",
    "\n",
    "geo_json_farms = GeoJSON(\n",
    "    data=data_farms,\n",
    "    name=\"Farm locations\"\n",
    ")\n",
    "\n",
    "def grid_click_handler(event=None, feature=None, id=None, properties=None):\n",
    "    global id_\n",
    "    global feature_clicked\n",
    "    \n",
    "    feature_clicked = True\n",
    "\n",
    "    try:\n",
    "        m.remove_layer(temp_marker)\n",
    "    except:\n",
    "        pass\n",
    "    \n",
    "    id_ = properties[\"CellCode\"]\n",
    "    #species_label.value = f\"Field: {name}\"\n",
    "\n",
    "def marker_click_handler(event=None, feature=None, id=None, properties=None):\n",
    "    global id_\n",
    "    global feature_clicked\n",
    "    global dummy_num\n",
    "    global x\n",
    "    global y\n",
    "\n",
    "    try:\n",
    "        m.remove_layer(temp_marker)\n",
    "    except:\n",
    "        pass\n",
    "    #name = properties[\"geounit\"]\n",
    "    \n",
    "    id_ = properties[\"farm_id\"]\n",
    "    \n",
    "    species = properties[\"species\"]\n",
    "    if species == None:\n",
    "        species = properties[\"species 1\"]\n",
    "    species_label.value = f\"Species produced: {species}\"\n",
    "    \n",
    "    x = properties[\"coordinates\"][1]\n",
    "    y = properties[\"coordinates\"][0]\n",
    "    \n",
    "    message = HTML()\n",
    "    message.value = f\"Coordinates: ({np.round(x,2)}, {np.round(y,2)}) <br> Species: {species[species.find('(')+1:species.find(')')]}\"\n",
    "    popup = Popup(\n",
    "            location=(x, y),\n",
    "            child=message,\n",
    "            close_button=True,\n",
    "            auto_close=True,\n",
    "            close_on_escape_key=True,\n",
    "            max_width = 500,\n",
    "            name = \"Location info\"\n",
    "        )\n",
    "    \n",
    "    m.add_layer(popup)\n",
    "    \n",
    "geo_json_farms.on_click(marker_click_handler)\n",
    "geo_json_grid.on_click(grid_click_handler)\n",
    "\n",
    "m.add_layer(geo_json_Natura)\n",
    "m.add_layer(geo_json_grid)\n",
    "m.add_layer(geo_json_farms)\n",
    "\n",
    "control = LayersControl(position='topright')\n",
    "m.add_control(control)"
   ]
  },
  {
   "cell_type": "markdown",
   "metadata": {},
   "source": [
    "**Simulation GUI setup**  \n",
    "The simulation and visualization GUI is constructed here consisting of a species selection drop-down menu, climate change scenario selection radio buttons, simulation button, and visualization segment."
   ]
  },
  {
   "cell_type": "code",
   "execution_count": 5,
   "metadata": {},
   "outputs": [
    {
     "data": {
      "application/vnd.jupyter.widget-view+json": {
       "model_id": "b789cf369dcf49a9b69b1a27cf65fe8e",
       "version_major": 2,
       "version_minor": 0
      },
      "text/plain": [
       "HTML(value='<p style=\\'font-size:24px\\'>Welcome to PerfeCt!</p>\\n\\n                   <p style=\\'font-size:16p…"
      ]
     },
     "metadata": {},
     "output_type": "display_data"
    },
    {
     "data": {
      "application/vnd.jupyter.widget-view+json": {
       "model_id": "0c07ddfd5e7042908cb876bbd11b65cc",
       "version_major": 2,
       "version_minor": 0
      },
      "text/plain": [
       "Map(bottom=1801.0, center=[39.977120098439634, 17.578125000000004], controls=(ZoomControl(options=['position',…"
      ]
     },
     "metadata": {},
     "output_type": "display_data"
    },
    {
     "data": {
      "application/vnd.jupyter.widget-view+json": {
       "model_id": "bf1963006f6148d5a8efaf2678fe7050",
       "version_major": 2,
       "version_minor": 0
      },
      "text/plain": [
       "Label(value='Species produced: lubin (Dicentrarchus labrax)', layout=Layout(width='100%'))"
      ]
     },
     "metadata": {},
     "output_type": "display_data"
    },
    {
     "data": {
      "application/vnd.jupyter.widget-view+json": {
       "model_id": "040fe627acce419bb21a083063b3ff28",
       "version_major": 2,
       "version_minor": 0
      },
      "text/plain": [
       "Dropdown(description='Species:', options=('Argyrosomus_regius', 'Dentex_dentex', 'Dicentrarchus_labrax', 'Dipl…"
      ]
     },
     "metadata": {},
     "output_type": "display_data"
    },
    {
     "data": {
      "application/vnd.jupyter.widget-view+json": {
       "model_id": "c7dae837e0954fdc9e613e9247cb508e",
       "version_major": 2,
       "version_minor": 0
      },
      "text/plain": [
       "RadioButtons(description='Scenario:', options=('RCP4.5', 'RCP8.5'), value='RCP4.5')"
      ]
     },
     "metadata": {},
     "output_type": "display_data"
    },
    {
     "data": {
      "application/vnd.jupyter.widget-view+json": {
       "model_id": "83cd65d21012444c8c37416abca7e215",
       "version_major": 2,
       "version_minor": 0
      },
      "text/plain": [
       "Button(button_style='primary', description='Simulate!', style=ButtonStyle())"
      ]
     },
     "metadata": {},
     "output_type": "display_data"
    },
    {
     "data": {
      "application/vnd.jupyter.widget-view+json": {
       "model_id": "d69e2b2c03f94fbf950fecfd68e6b69c",
       "version_major": 2,
       "version_minor": 0
      },
      "text/plain": [
       "IntProgress(value=0, max=4)"
      ]
     },
     "metadata": {},
     "output_type": "display_data"
    },
    {
     "data": {
      "application/vnd.jupyter.widget-view+json": {
       "model_id": "0566f59facd548419382611c5f197c9f",
       "version_major": 2,
       "version_minor": 0
      },
      "image/png": "[encoded data removed]",
      "text/html": [
       "\n",
       "            <div style=\"display: inline-block;\">\n",
       "                <div class=\"jupyter-widgets widget-label\" style=\"text-align: center;\">\n",
       "                    Figure\n",
       "                </div>\n",
       "                <img src='data:image/png;base64,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' width=1200.0/>\n",
       "            </div>\n",
       "        "
      ],
      "text/plain": [
       "Canvas(toolbar=Toolbar(toolitems=[('Home', 'Reset original view', 'home', 'home'), ('Back', 'Back to previous …"
      ]
     },
     "metadata": {},
     "output_type": "display_data"
    }
   ],
   "source": [
    "display(title_label)\n",
    "display(m)\n",
    "display(species_label)\n",
    "\n",
    "options = list(species_mi.keys())\n",
    "\n",
    "scenarios = [\"RCP4.5\", \"RCP8.5\"]\n",
    "\n",
    "dropdown = Dropdown(\n",
    "    options=options,\n",
    "    value = options[0],\n",
    "    description = \"Species:\",\n",
    "    disabled = False)\n",
    "\n",
    "radios = RadioButtons(\n",
    "    options=scenarios,\n",
    "    description=\"Scenario:\",\n",
    "    disabled=False\n",
    ")\n",
    "\n",
    "btn = Button(description=\"Simulate!\", button_style=\"primary\")\n",
    "out = Output()\n",
    "\n",
    "progress = IntProgress(min = 0, max=4)\n",
    "\n",
    "display(dropdown)\n",
    "display(radios)\n",
    "display(btn)\n",
    "display(progress)\n",
    "\n",
    "max_y = 37\n",
    "\n",
    "x_data = np.arange(2010, 2010+max_y, 1)\n",
    "fig, ax = plt.subplots(nrows=1, ncols=3, figsize=(12, 6))\n",
    "stem1 = ax[1].stem(x_data, np.zeros(max_y))\n",
    "stem2 = ax[0].stem(x_data, np.zeros(max_y))\n",
    "stem3 = ax[2].stem(x_data, np.zeros(max_y))\n",
    "title1 = ax[1].set_title(\"Time to market\")\n",
    "title2 = ax[0].set_title(\"Feed conversion ratio change\")\n",
    "title3 = ax[2].set_title(\"Vibriosis risk\")\n",
    "ax[0].set_ylim(-100, 100)\n",
    "ax[1].set_ylim(-100, 100)\n",
    "ax[2].set_ylim(-100, 100)\n",
    "ax[0].set_ylabel(\"Change [ %, days, days]\")\n",
    "ax[0].set_xlabel(\"Year\")\n",
    "ax[1].set_xlabel(\"Year\")\n",
    "ax[2].set_xlabel(\"Year\")\n",
    "\n",
    "ax[0].axvline(2022, -1000, 1000, c =\"k\", linestyle= \"--\", alpha = .4)\n",
    "ax[1].axvline(2022, -1000, 1000, c =\"k\", linestyle= \"--\", alpha = .4)\n",
    "ax[2].axvline(2022, -1000, 1000, c =\"k\", linestyle= \"--\", alpha = .4)\n",
    "\n",
    "fig.suptitle(\"Simulation results\")\n",
    "\n",
    "rect = patches.Rectangle((2010, 0), max_y, -1000, linewidth=1, edgecolor='g', facecolor='g', alpha=.1)\n",
    "ax[0].add_patch(rect)\n",
    "rect = patches.Rectangle((2010, 0), max_y, 1000, linewidth=1, edgecolor='r', facecolor='r', alpha=.1)\n",
    "ax[0].add_patch(rect)\n",
    "\n",
    "rect = patches.Rectangle((2010, 0), max_y, -1000, linewidth=1, edgecolor='g', facecolor='g', alpha=.1)\n",
    "ax[1].add_patch(rect)\n",
    "rect = patches.Rectangle((2010, 0), max_y, 1000, linewidth=1, edgecolor='r', facecolor='r', alpha=.1)\n",
    "ax[1].add_patch(rect)\n",
    "\n",
    "rect = patches.Rectangle((2010, 0), max_y, -1000, linewidth=1, edgecolor='g', facecolor='g', alpha=.1)\n",
    "ax[2].add_patch(rect)\n",
    "rect = patches.Rectangle((2010, 0), max_y, 1000, linewidth=1, edgecolor='r', facecolor='r', alpha=.1)\n",
    "ax[2].add_patch(rect)\n",
    "\n",
    "\n",
    "last_species = \"\"\n",
    "\n",
    "\n",
    "def update(change):\n",
    "    progress.value = 0\n",
    "    progress.value +=1\n",
    "    try:\n",
    "        data_file_past = time_series_dir_past + f\"id_{id_:03d}.csv\"\n",
    "        data_file_future = time_series_dir_future + f\"id_{id_:03d}.csv\"\n",
    "    except:\n",
    "        data_file_past = time_series_dir_past + f\"id_{id_}.csv\"\n",
    "        data_file_future = time_series_dir_future + f\"id_{id_}.csv\"\n",
    "    species = \"Sparus_aurata\"\n",
    "\n",
    "    # preprocessing\n",
    "    data_past= pd.read_csv(data_file_past, index_col=0).values\n",
    "    # print(data_past.shape)\n",
    "\n",
    "    data_future = pd.read_csv(data_file_future, index_col=0).values\n",
    "    # print(data_future.shape)\n",
    "\n",
    "    data = np.zeros((len(data_past)+len(data_future), 2))\n",
    "    data[:len(data_past), 0] = data_past[:, 1]\n",
    "    data[:len(data_past), 1] = data_past[:, 1]\n",
    "    data[len(data_past):, :] = data_future[:, 1:]\n",
    "\n",
    "    dataframe = pd.DataFrame(data, columns=[\"rcp4_5\", \"rcp8_5\"])\n",
    "\n",
    "    ttm, fcr = perfect_sim(dataframe, species, species_mi[species], radios.value)\n",
    "    progress.value +=1\n",
    "    \n",
    "    vibrio = calc_DRV(dataframe, radios.value)\n",
    "    progress.value +=1\n",
    "    \n",
    "\n",
    "    y_data = ttm[:max_y]-ttm[12]\n",
    "    stem1[0].set_ydata(y_data)\n",
    "    stem1[1].set_paths(\n",
    "        [np.array([[xx, 0], [xx, yy]]) for (xx, yy) in zip(x_data, y_data)])\n",
    "    ax[1].set_ylim(np.min(y_data)-5, np.max(y_data)+5)\n",
    "    \n",
    "    y_data = ((fcr[:max_y]/fcr[12]) -1)*100\n",
    "    stem2[0].set_ydata(y_data)\n",
    "    stem2[1].set_paths(\n",
    "        [np.array([[xx, 0], [xx, yy]]) for (xx, yy) in zip(x_data, y_data)])\n",
    "    ax[0].set_ylim(np.min(y_data)-5, np.max(y_data)+5)\n",
    "    \n",
    "    y_data = (vibrio[:max_y]-vibrio[12])\n",
    "    stem3[0].set_ydata(y_data)\n",
    "    stem3[1].set_paths(\n",
    "        [np.array([[xx, 0], [xx, yy]]) for (xx, yy) in zip(x_data, y_data)])\n",
    "    ax[2].set_ylim(np.min(y_data)-5, np.max(y_data)+5)\n",
    "\n",
    "    ax[1].set_title(f\"Time to market\")\n",
    "    ax[0].set_title(f\"Feed conversion ratio change\")\n",
    "    ax[2].set_title(f\"Vibriosis risk\")\n",
    "    fig.suptitle(\"$\\it{\"+str(dropdown.value.replace(\"_\", \"\\:\"))+\"}$\"+ f\" - Simulation results for location ({np.round(x,2)}, {np.round(y,2)}) - {radios.value}\")\n",
    "    fig.canvas.draw()\n",
    "    progress.value+=1\n",
    "\n",
    "    return\n",
    "\n",
    "\n",
    "btn.on_click(update)"
   ]
  },
  {
   "cell_type": "code",
   "execution_count": null,
   "metadata": {},
   "outputs": [],
   "source": []
  }
 ],
 "metadata": {
  "interpreter": {
   "hash": "c9dea729eb3ee4cd7f07f186621811e52425eecfcfe1e8159534b887007bd691"
  },
  "kernelspec": {
   "display_name": "Python 3 (ipykernel)",
   "language": "python",
   "name": "python3"
  },
  "language_info": {
   "codemirror_mode": {
    "name": "ipython",
    "version": 3
   },
   "file_extension": ".py",
   "mimetype": "text/x-python",
   "name": "python",
   "nbconvert_exporter": "python",
   "pygments_lexer": "ipython3",
   "version": "3.9.10"
  }
 },
 "nbformat": 4,
 "nbformat_minor": 4
}

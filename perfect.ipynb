{
 "cells": [
  {
   "cell_type": "markdown",
   "metadata": {},
   "source": [
    "# Welcome to **PerfeCt** by AqADAPT team!\n",
    "### To generate the interactive map and simulation graphical user interface, click on the *Restart the kernel, then re-run the whole notebook* button above or run the cells below consecutively using *Shift+Enter*."
   ]
  },
  {
   "cell_type": "markdown",
   "metadata": {},
   "source": [
    "**Loading the neccesary libraries**  \n",
    "This cell loads all the necessary libraries for map display, interactive widgets handling, calculations, simulations and visualizations on Blue-Cloud."
   ]
  },
  {
   "cell_type": "code",
   "execution_count": 1,
   "metadata": {},
   "outputs": [],
   "source": [
    "%matplotlib widget\n",
    "from ipyleaflet import *\n",
    "import ipywidgets as widgets\n",
    "from ipywidgets import HTML, Layout, IntSlider, RadioButtons, Dropdown, Button, Output, Label, IntProgress\n",
    "from IPython.display import display\n",
    "import numpy as np\n",
    "import matplotlib.pyplot as plt\n",
    "import random\n",
    "import json\n",
    "from pathlib import Path as pth\n",
    "import pandas as pd\n",
    "from perfect.perfect import perfect_sim\n",
    "from vibrio.vibrio import calc_DRV\n",
    "from matplotlib.colors import ListedColormap, BoundaryNorm\n",
    "import matplotlib.patches as patches"
   ]
  },
  {
   "cell_type": "markdown",
   "metadata": {},
   "source": [
    "**Variable setup**  \n",
    "In this cell global variables are defined. This cell loads data on farm locations in the Mediterranean, Natura 2000 sites, and a custom 10 km x 10 km grid created for the possible farm locations in the Mediterranean based on the standard EEA grid. Moreover, timeseries data and species parameters necessary for simulations are loaded here."
   ]
  },
  {
   "cell_type": "code",
   "execution_count": 2,
   "metadata": {},
   "outputs": [],
   "source": [
    "x, y = 0, 0\n",
    "feature_clicked = False\n",
    "id_ = None\n",
    "\n",
    "with open('data/MED_farms/MED_farms_for_display.geojson', 'r') as f:\n",
    "    data_farms = json.load(f)\n",
    "with open('data/Natura2000_marine/Natura2000_marine_smooth.geojson', 'r') as f:\n",
    "    data_Natura = json.load(f)\n",
    "with open('data/MED_grid/MED_ter_10km_grid.geojson', 'r') as f:\n",
    "    data_grid = json.load(f)\n",
    "\n",
    "# LOCAL pathing\n",
    "time_series_dir_past = \"/mnt/DataDisk/TIME_SERIES_PAST/\"\n",
    "time_series_dir_future = \"/mnt/DataDisk/TIME_SERIES/\"\n",
    "\n",
    "# BLUECLOUD pathing\n",
    "# time_series_dir_past = \"data/TIME_SERIES_PAST/TIME_SERIES_PAST/\"\n",
    "# time_series_dir_future = \"data/TIME_SERIES/TIME_SERIES/\"\n",
    "\n",
    "species_db = pd.read_csv(\"data/deb_species_list.csv\", index_col=0)\n",
    "\n",
    "species_mi = {}\n",
    "for i in species_db.iloc:\n",
    "    if not np.isnan(i[\"MarketWeight\"]) and not np.isnan(i[\"InitialSize\"]):\n",
    "        species_mi[i[\"Name\"]] = {\n",
    "            \"MarketWeight\": i[\"MarketWeight\"],\n",
    "            \"InitialSize\": i[\"InitialSize\"]\n",
    "        }"
   ]
  },
  {
   "cell_type": "markdown",
   "metadata": {},
   "source": [
    "**Map setup**  \n",
    "The basic layers of the PerfeCt service are added to the map and map interaction event handling functions are created."
   ]
  },
  {
   "cell_type": "code",
   "execution_count": 3,
   "metadata": {},
   "outputs": [],
   "source": [
    "defaultLayout = Layout(width='1200px', height='500px')\n",
    "center = (40,20)\n",
    "icon = Icon(icon_url='', icon_size=[38, 95])\n",
    "m = Map(center=center,\n",
    "       basemap=basemaps.Esri.WorldImagery,\n",
    "        zoom=4,\n",
    "       layout=defaultLayout)\n",
    "\n",
    "species_label = Label(layout=Layout(width=\"100%\"))\n",
    "title_label = HTML(value = \"\"\"<p style='font-size:24px'>Welcome to PerfeCt!</p>\n",
    "\n",
    "                   <p style='font-size:16px'> Instructions: </p>\n",
    "                   <ol style='font-size:16px'><li>Click on an existing aquaculture farm denoted \n",
    "                   by blue markers or choose a blue square as a new farm location in \n",
    "                   the Mediterranean (zoom in for easier selection).</li> \n",
    "                   <li>Choose a fish species and a climate change scenario for which you would like to see the\n",
    "                   model simulation results.</li>\n",
    "                   <li>Click the Blue \"Simulate!\" button.</li>\n",
    "                   <li>Wait up to 40 seconds to see the simulation results.</li>\n",
    "                   </ol>\n",
    "                   <p style='font-size:16px'>\n",
    "                   Feel free to explore around the Mediterranean!\n",
    "                   </p>\n",
    "                   \n",
    "                   \"\"\")\n",
    "\n",
    "def handle_map_click(**kwargs):\n",
    "    if kwargs.get('type') == 'click':\n",
    "        global x\n",
    "        global y\n",
    "        global dummy_num\n",
    "        global feature_clicked\n",
    "        global temp_marker\n",
    "        \n",
    "        try:\n",
    "            m.remove_layer(temp_marker)\n",
    "        except:\n",
    "            pass\n",
    "        \n",
    "        if feature_clicked == True:\n",
    "            temp_marker = Marker(\n",
    "                    location=kwargs.get('coordinates'),\n",
    "                    icon=icon,\n",
    "                    name=\"Location info\")           \n",
    "            #print(\"You clicked on: \", kwargs.get('coordinates'))\n",
    "\n",
    "            x, y = kwargs.get('coordinates')\n",
    "            message = HTML()\n",
    "            message.value = f\"Coordinates: ({np.round(x,2)}, {np.round(y,2)})\"\n",
    "            species_label.value = f\"EEA field ID: {id_}\"\n",
    "            popup = Popup(\n",
    "                location=(x, y),\n",
    "                child=message,\n",
    "                close_button=True,\n",
    "                auto_close=True,\n",
    "                close_on_escape_key=True,\n",
    "                max_width = 500,\n",
    "                name = \"Location info\"\n",
    "            )\n",
    "            m.add_layer(popup)\n",
    "            m.add_layer(temp_marker)\n",
    "        feature_clicked=False\n",
    "        \n",
    "m.on_interaction(handle_map_click)\n",
    "\n",
    "geo_json_Natura = GeoJSON(\n",
    "    data=data_Natura,\n",
    "    style = {\n",
    "        \"fillOpacity\": 0.75, \"fillColor\": \"white\", \"color\": \"black\", \"weight\": 1.5 \n",
    "    },\n",
    "    name=\"Natura2000 sites\"\n",
    ")\n",
    "\n",
    "geo_json_grid = GeoJSON(\n",
    "    data=data_grid,\n",
    "    style = {\n",
    "        \"fillOpacity\": 0.75, \"fillColor\": \"#83d4e7\", \"color\": \"black\", \"weight\": 0, \"opacity\": 0.5 \n",
    "    },\n",
    "    hover_style = {\n",
    "        \"fillOpacity\": 0.75, \"fillColor\": \"orange\", \"color\": \"white\", \"weight\": 1, \"opacity\": 0.5 \n",
    "    },\n",
    "    name=\"Grid\"\n",
    ")\n",
    "\n",
    "geo_json_farms = GeoJSON(\n",
    "    data=data_farms,\n",
    "    name=\"Farm locations\"\n",
    ")\n",
    "\n",
    "def grid_click_handler(event=None, feature=None, id=None, properties=None):\n",
    "    global id_\n",
    "    global feature_clicked\n",
    "    \n",
    "    feature_clicked = True\n",
    "\n",
    "    try:\n",
    "        m.remove_layer(temp_marker)\n",
    "    except:\n",
    "        pass\n",
    "    \n",
    "    id_ = properties[\"CellCode\"]\n",
    "    #species_label.value = f\"Field: {name}\"\n",
    "\n",
    "def marker_click_handler(event=None, feature=None, id=None, properties=None):\n",
    "    global id_\n",
    "    global feature_clicked\n",
    "    global dummy_num\n",
    "    global x\n",
    "    global y\n",
    "\n",
    "    try:\n",
    "        m.remove_layer(temp_marker)\n",
    "    except:\n",
    "        pass\n",
    "    #name = properties[\"geounit\"]\n",
    "    \n",
    "    id_ = properties[\"farm_id\"]\n",
    "    \n",
    "    species = properties[\"species\"]\n",
    "    if species == None:\n",
    "        species = properties[\"species 1\"]\n",
    "    species_label.value = f\"Species produced: {species}\"\n",
    "    \n",
    "    x = properties[\"coordinates\"][1]\n",
    "    y = properties[\"coordinates\"][0]\n",
    "    \n",
    "    message = HTML()\n",
    "    message.value = f\"Coordinates: ({np.round(x,2)}, {np.round(y,2)}) <br> Species: {species[species.find('(')+1:species.find(')')]}\"\n",
    "    popup = Popup(\n",
    "            location=(x, y),\n",
    "            child=message,\n",
    "            close_button=True,\n",
    "            auto_close=True,\n",
    "            close_on_escape_key=True,\n",
    "            max_width = 500,\n",
    "            name = \"Location info\"\n",
    "        )\n",
    "    \n",
    "    m.add_layer(popup)\n",
    "    \n",
    "geo_json_farms.on_click(marker_click_handler)\n",
    "geo_json_grid.on_click(grid_click_handler)\n",
    "\n",
    "m.add_layer(geo_json_Natura)\n",
    "m.add_layer(geo_json_grid)\n",
    "m.add_layer(geo_json_farms)\n",
    "\n",
    "control = LayersControl(position='topright')\n",
    "m.add_control(control)"
   ]
  },
  {
   "cell_type": "markdown",
   "metadata": {},
   "source": [
    "**Simulation GUI setup**  \n",
    "The simulation and visualization GUI is constructed here consisting of a species selection drop-down menu, climate change scenario selection radio buttons, simulation button, and visualization segment."
   ]
  },
  {
   "cell_type": "code",
   "execution_count": 8,
   "metadata": {},
   "outputs": [
    {
     "data": {
      "application/vnd.jupyter.widget-view+json": {
       "model_id": "4d694aebfe8b46deb28ebd0fc20a4cc4",
       "version_major": 2,
       "version_minor": 0
      },
      "text/plain": [
       "HTML(value='<p style=\\'font-size:24px\\'>Welcome to PerfeCt!</p>\\n\\n                   <p style=\\'font-size:16p…"
      ]
     },
     "metadata": {},
     "output_type": "display_data"
    },
    {
     "data": {
      "application/vnd.jupyter.widget-view+json": {
       "model_id": "22ea8358c8484ddc964530b6a030a5b5",
       "version_major": 2,
       "version_minor": 0
      },
      "text/plain": [
       "Map(bottom=1801.0, center=[39.977120098439634, 20.039062500000004], controls=(ZoomControl(options=['position',…"
      ]
     },
     "metadata": {},
     "output_type": "display_data"
    },
    {
     "data": {
      "application/vnd.jupyter.widget-view+json": {
       "model_id": "f818af4f22784c17991a36642c25c0ac",
       "version_major": 2,
       "version_minor": 0
      },
      "text/plain": [
       "Label(value='Species produced: Unknown', layout=Layout(width='100%'))"
      ]
     },
     "metadata": {},
     "output_type": "display_data"
    },
    {
     "data": {
      "application/vnd.jupyter.widget-view+json": {
       "model_id": "482ecb0cabc04e71a8ffe8bf3012df87",
       "version_major": 2,
       "version_minor": 0
      },
      "text/plain": [
       "Dropdown(description='Species:', options=('Argyrosomus_regius', 'Dentex_dentex', 'Dicentrarchus_labrax', 'Dipl…"
      ]
     },
     "metadata": {},
     "output_type": "display_data"
    },
    {
     "data": {
      "application/vnd.jupyter.widget-view+json": {
       "model_id": "b93c3fe3b320485cbe5831a05fb3322d",
       "version_major": 2,
       "version_minor": 0
      },
      "text/plain": [
       "RadioButtons(description='Scenario:', options=('RCP4.5', 'RCP8.5'), value='RCP4.5')"
      ]
     },
     "metadata": {},
     "output_type": "display_data"
    },
    {
     "data": {
      "application/vnd.jupyter.widget-view+json": {
       "model_id": "a94ecf00d8e94e6ba631d05c3948d3e0",
       "version_major": 2,
       "version_minor": 0
      },
      "text/plain": [
       "Button(button_style='primary', description='Simulate!', style=ButtonStyle())"
      ]
     },
     "metadata": {},
     "output_type": "display_data"
    },
    {
     "data": {
      "application/vnd.jupyter.widget-view+json": {
       "model_id": "c20dd7a5f22e40db9bc75ea72368916d",
       "version_major": 2,
       "version_minor": 0
      },
      "text/plain": [
       "IntProgress(value=0, max=4)"
      ]
     },
     "metadata": {},
     "output_type": "display_data"
    },
    {
     "data": {
      "application/vnd.jupyter.widget-view+json": {
       "model_id": "946ef06e48e64e2b967ebcefb808fe49",
       "version_major": 2,
       "version_minor": 0
      },
      "image/png": "[encoded data removed]",
      "text/html": [
       "\n",
       "            <div style=\"display: inline-block;\">\n",
       "                <div class=\"jupyter-widgets widget-label\" style=\"text-align: center;\">\n",
       "                    Figure\n",
       "                </div>\n",
       "                <img src='data:image/png;base64,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' width=1200.0/>\n",
       "            </div>\n",
       "        "
      ],
      "text/plain": [
       "Canvas(toolbar=Toolbar(toolitems=[('Home', 'Reset original view', 'home', 'home'), ('Back', 'Back to previous …"
      ]
     },
     "metadata": {},
     "output_type": "display_data"
    }
   ],
   "source": [
    "display(title_label)\n",
    "display(m)\n",
    "display(species_label)\n",
    "\n",
    "options = list(species_mi.keys())\n",
    "\n",
    "scenarios = [\"RCP4.5\", \"RCP8.5\"]\n",
    "\n",
    "dropdown = Dropdown(\n",
    "    options=options,\n",
    "    value = options[0],\n",
    "    description = \"Species:\",\n",
    "    disabled = False)\n",
    "\n",
    "radios = RadioButtons(\n",
    "    options=scenarios,\n",
    "    description=\"Scenario:\",\n",
    "    disabled=False\n",
    ")\n",
    "\n",
    "btn = Button(description=\"Simulate!\", button_style=\"primary\")\n",
    "out = Output()\n",
    "\n",
    "progress = IntProgress(min = 0, max=4)\n",
    "\n",
    "display(dropdown)\n",
    "display(radios)\n",
    "display(btn)\n",
    "display(progress)\n",
    "\n",
    "max_y = 37\n",
    "\n",
    "x_data = np.arange(2010, 2010+max_y, 1)\n",
    "fig, ax = plt.subplots(nrows=1, ncols=3, figsize=(12, 6))\n",
    "stem1 = ax[1].stem(x_data, np.zeros(max_y))\n",
    "stem2 = ax[0].stem(x_data, np.zeros(max_y))\n",
    "stem3 = ax[2].stem(x_data, np.zeros(max_y))\n",
    "title1 = ax[1].set_title(\"Time to market\")\n",
    "title2 = ax[0].set_title(\"Feed conversion ratio change\")\n",
    "title3 = ax[2].set_title(\"Vibriosis risk\")\n",
    "ax[0].set_ylim(-100, 100)\n",
    "ax[1].set_ylim(-100, 100)\n",
    "ax[2].set_ylim(-100, 100)\n",
    "ax[0].set_ylabel(\"Change [ %, days, days]\")\n",
    "ax[0].set_xlabel(\"Year\")\n",
    "ax[1].set_xlabel(\"Year\")\n",
    "ax[2].set_xlabel(\"Year\")\n",
    "\n",
    "ax[0].axvline(2022, -1000, 1000, c =\"k\", linestyle= \"--\", alpha = .4)\n",
    "ax[1].axvline(2022, -1000, 1000, c =\"k\", linestyle= \"--\", alpha = .4)\n",
    "ax[2].axvline(2022, -1000, 1000, c =\"k\", linestyle= \"--\", alpha = .4)\n",
    "\n",
    "fig.suptitle(\"Simulation results\")\n",
    "\n",
    "rect = patches.Rectangle((2010, 0), max_y, -100, linewidth=1, edgecolor='g', facecolor='g', alpha=.1)\n",
    "ax[0].add_patch(rect)\n",
    "rect = patches.Rectangle((2010, 0), max_y, 100, linewidth=1, edgecolor='r', facecolor='r', alpha=.1)\n",
    "ax[0].add_patch(rect)\n",
    "\n",
    "rect = patches.Rectangle((2010, 0), max_y, -100, linewidth=1, edgecolor='g', facecolor='g', alpha=.1)\n",
    "ax[1].add_patch(rect)\n",
    "rect = patches.Rectangle((2010, 0), max_y, 100, linewidth=1, edgecolor='r', facecolor='r', alpha=.1)\n",
    "ax[1].add_patch(rect)\n",
    "\n",
    "rect = patches.Rectangle((2010, 0), max_y, -100, linewidth=1, edgecolor='g', facecolor='g', alpha=.1)\n",
    "ax[2].add_patch(rect)\n",
    "rect = patches.Rectangle((2010, 0), max_y, 100, linewidth=1, edgecolor='r', facecolor='r', alpha=.1)\n",
    "ax[2].add_patch(rect)\n",
    "\n",
    "\n",
    "last_species = \"\"\n",
    "\n",
    "\n",
    "def update(change):\n",
    "    progress.value = 0\n",
    "    progress.value +=1\n",
    "    try:\n",
    "        data_file_past = time_series_dir_past + f\"id_{id_:03d}.csv\"\n",
    "        data_file_future = time_series_dir_future + f\"id_{id_:03d}.csv\"\n",
    "    except:\n",
    "        data_file_past = time_series_dir_past + f\"id_{id_}.csv\"\n",
    "        data_file_future = time_series_dir_future + f\"id_{id_}.csv\"\n",
    "    species = \"Sparus_aurata\"\n",
    "\n",
    "\n",
    "    # preprocessing\n",
    "    data_past= pd.read_csv(data_file_past, index_col=0).values\n",
    "    # print(data_past.shape)\n",
    "\n",
    "    data_future = pd.read_csv(data_file_future, index_col=0).values\n",
    "    # print(data_future.shape)\n",
    "\n",
    "    data = np.zeros((len(data_past)+len(data_future), 2))\n",
    "    data[:len(data_past), 0] = data_past[:, 1]\n",
    "    data[:len(data_past), 1] = data_past[:, 1]\n",
    "    data[len(data_past):, :] = data_future[:, 1:]\n",
    "\n",
    "    dataframe = pd.DataFrame(data, columns=[\"rcp4_5\", \"rcp8_5\"])\n",
    "\n",
    "    ttm, fcr = perfect_sim(dataframe, species, species_mi[species], radios.value)\n",
    "    progress.value +=1\n",
    "    \n",
    "    vibrio = calc_DRV(dataframe, radios.value)\n",
    "    progress.value +=1\n",
    "    \n",
    "\n",
    "    y_data = ttm[:max_y]-ttm[12]\n",
    "    stem1[0].set_ydata(y_data)\n",
    "    stem1[1].set_paths(\n",
    "        [np.array([[xx, 0], [xx, yy]]) for (xx, yy) in zip(x_data, y_data)])\n",
    "    ax[1].set_ylim(np.min(y_data)-5, np.max(y_data)+5)\n",
    "    \n",
    "    y_data = ((fcr[:max_y]/fcr[12]) -1)*100\n",
    "    stem2[0].set_ydata(y_data)\n",
    "    stem2[1].set_paths(\n",
    "        [np.array([[xx, 0], [xx, yy]]) for (xx, yy) in zip(x_data, y_data)])\n",
    "    ax[0].set_ylim(np.min(y_data)-5, np.max(y_data)+5)\n",
    "    \n",
    "    y_data = (vibrio[:max_y]-vibrio[12])\n",
    "    stem3[0].set_ydata(y_data)\n",
    "    stem3[1].set_paths(\n",
    "        [np.array([[xx, 0], [xx, yy]]) for (xx, yy) in zip(x_data, y_data)])\n",
    "    ax[2].set_ylim(np.min(y_data)-5, np.max(y_data)+5)\n",
    "\n",
    "    ax[1].set_title(f\"Time to market\")\n",
    "    ax[0].set_title(f\"Feed conversion ratio change\")\n",
    "    ax[2].set_title(f\"Vibriosis risk\")\n",
    "    fig.suptitle(\"$\\it{\"+str(dropdown.value.replace(\"_\", \"\\:\"))+\"}$\"+ f\" - Simulation results for location ({np.round(x,2)}, {np.round(y,2)}) - {radios.value}\")\n",
    "    fig.canvas.draw()\n",
    "    progress.value+=1\n",
    "\n",
    "    return\n",
    "\n",
    "\n",
    "btn.on_click(update)"
   ]
  },
  {
   "cell_type": "code",
   "execution_count": null,
   "metadata": {},
   "outputs": [],
   "source": []
  }
 ],
 "metadata": {
  "interpreter": {
   "hash": "c9dea729eb3ee4cd7f07f186621811e52425eecfcfe1e8159534b887007bd691"
  },
  "kernelspec": {
   "display_name": "Python 3 (ipykernel)",
   "language": "python",
   "name": "python3"
  },
  "language_info": {
   "codemirror_mode": {
    "name": "ipython",
    "version": 3
   },
   "file_extension": ".py",
   "mimetype": "text/x-python",
   "name": "python",
   "nbconvert_exporter": "python",
   "pygments_lexer": "ipython3",
   "version": "3.9.10"
  }
 },
 "nbformat": 4,
 "nbformat_minor": 4
}

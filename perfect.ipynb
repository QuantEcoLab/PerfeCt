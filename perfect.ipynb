{
 "cells": [
  {
   "cell_type": "markdown",
   "metadata": {},
   "source": [
    "# Welcome to **PERfeCt** by AqADAPT team!\n",
    "### To generate the interactive map and simulation graphical user interface, click on the *Restart the kernel, then re-run the whole notebook* button above or run the cells below consecutively using *Shift+Enter*."
   ]
  },
  {
   "cell_type": "markdown",
   "metadata": {},
   "source": [
    "**Loading the neccesary libraries***"
   ]
  },
  {
   "cell_type": "code",
   "execution_count": 1,
   "metadata": {},
   "outputs": [],
   "source": [
    "%matplotlib widget\n",
    "from ipyleaflet import *\n",
    "import ipywidgets as widgets\n",
    "from ipywidgets import HTML, Layout, IntSlider, RadioButtons, Dropdown, Button, Output, Label\n",
    "from IPython.display import display\n",
    "import numpy as np\n",
    "import matplotlib.pyplot as plt\n",
    "import random\n",
    "import json\n",
    "from pathlib import Path as pth\n",
    "import pandas as pd\n",
    "from perfect.perfect import perfect_sim\n",
    "from vibrio.vibrio import calc_DRV"
   ]
  },
  {
   "cell_type": "markdown",
   "metadata": {},
   "source": [
    "**Variable setup**"
   ]
  },
  {
   "cell_type": "code",
   "execution_count": 2,
   "metadata": {},
   "outputs": [],
   "source": [
    "x, y = 0, 0\n",
    "feature_clicked = False\n",
    "id_ = None\n",
    "\n",
    "with open('data/MED_farms/MED_farms_for_display.geojson', 'r') as f:\n",
    "    data_farms = json.load(f)\n",
    "with open('data/Natura2000_marine/Natura2000_marine_smooth.geojson', 'r') as f:\n",
    "    data_Natura = json.load(f)\n",
    "with open('data/MED_grid/MED_ter_10km_grid.geojson', 'r') as f:\n",
    "    data_grid = json.load(f)\n",
    "\n",
    "# data_list = list(pth(\"/mnt/DataDisk/TIME_SERIES\").glob(\"*.csv\"))\n",
    "time_series_dir = \"/mnt/DataDisk/TIME_SERIES/\"\n",
    "species_db = pd.read_csv(\"data/deb_species_list.csv\", index_col=0)\n",
    "\n",
    "species_mi = {}\n",
    "for i in species_db.iloc:\n",
    "    if not np.isnan(i[\"MarketWeight\"]) and not np.isnan(i[\"InitialSize\"]):\n",
    "        species_mi[i[\"Name\"]] = {\n",
    "            \"MarketWeight\": i[\"MarketWeight\"],\n",
    "            \"InitialSize\": i[\"InitialSize\"]\n",
    "        }"
   ]
  },
  {
   "cell_type": "markdown",
   "metadata": {},
   "source": [
    "**Map setup**"
   ]
  },
  {
   "cell_type": "code",
   "execution_count": 3,
   "metadata": {},
   "outputs": [],
   "source": [
    "defaultLayout = Layout(width='1200px', height='500px')\n",
    "center = (40,20)\n",
    "icon = Icon(icon_url='', icon_size=[38, 95])\n",
    "m = Map(center=center,\n",
    "       basemap=basemaps.Esri.WorldImagery,\n",
    "        zoom=4,\n",
    "       layout=defaultLayout)\n",
    "\n",
    "species_label = Label(layout=Layout(width=\"100%\"))\n",
    "title_label = HTML(value = \"\"\"<p style='font-size:24px'>Welcome to PERfeCt!</p>\n",
    "                   <br> Instructions: Click on an existing aquaculture farm location or ...\"\"\")\n",
    "\n",
    "def handle_map_click(**kwargs):\n",
    "    if kwargs.get('type') == 'click':\n",
    "        global x\n",
    "        global y\n",
    "        global dummy_num\n",
    "        global feature_clicked\n",
    "        global temp_marker\n",
    "        \n",
    "        try:\n",
    "            m.remove_layer(temp_marker)\n",
    "        except:\n",
    "            pass\n",
    "        \n",
    "        if feature_clicked == True:\n",
    "            temp_marker = Marker(\n",
    "                    location=kwargs.get('coordinates'),\n",
    "                    icon=icon,\n",
    "                    name=\"Location info\")           \n",
    "            #print(\"You clicked on: \", kwargs.get('coordinates'))\n",
    "\n",
    "            x, y = kwargs.get('coordinates')\n",
    "            message = HTML()\n",
    "            message.value = f\"Coordinates: ({np.round(x,2)}, {np.round(y,2)})\"\n",
    "            species_label.value = f\"EEA field ID: {id_}\"\n",
    "            popup = Popup(\n",
    "                location=(x, y),\n",
    "                child=message,\n",
    "                close_button=True,\n",
    "                auto_close=True,\n",
    "                close_on_escape_key=True,\n",
    "                max_width = 500,\n",
    "                name = \"Location info\"\n",
    "            )\n",
    "            m.add_layer(popup)\n",
    "            m.add_layer(temp_marker)\n",
    "        feature_clicked=False\n",
    "        \n",
    "m.on_interaction(handle_map_click)\n",
    "\n",
    "geo_json_Natura = GeoJSON(\n",
    "    data=data_Natura,\n",
    "    style = {\n",
    "        \"fillOpacity\": 0.75, \"fillColor\": \"white\", \"color\": \"black\", \"weight\": 1.5 \n",
    "    },\n",
    "    name=\"Natura2000 sites\"\n",
    ")\n",
    "\n",
    "geo_json_grid = GeoJSON(\n",
    "    data=data_grid,\n",
    "    style = {\n",
    "        \"fillOpacity\": 0.75, \"fillColor\": \"#83d4e7\", \"color\": \"black\", \"weight\": 0, \"opacity\": 0.5 \n",
    "    },\n",
    "    hover_style = {\n",
    "        \"fillOpacity\": 0.75, \"fillColor\": \"orange\", \"color\": \"white\", \"weight\": 1, \"opacity\": 0.5 \n",
    "    },\n",
    "    name=\"Grid\"\n",
    ")\n",
    "\n",
    "geo_json_farms = GeoJSON(\n",
    "    data=data_farms,\n",
    "    name=\"Farm locations\"\n",
    ")\n",
    "\n",
    "def grid_click_handler(event=None, feature=None, id=None, properties=None):\n",
    "    global id_\n",
    "    global feature_clicked\n",
    "    \n",
    "    feature_clicked = True\n",
    "\n",
    "    try:\n",
    "        m.remove_layer(temp_marker)\n",
    "    except:\n",
    "        pass\n",
    "    \n",
    "    id_ = properties[\"CellCode\"]\n",
    "    #species_label.value = f\"Field: {name}\"\n",
    "\n",
    "def marker_click_handler(event=None, feature=None, id=None, properties=None):\n",
    "    global id_\n",
    "    global feature_clicked\n",
    "    global dummy_num\n",
    "    global x\n",
    "    global y\n",
    "\n",
    "    try:\n",
    "        m.remove_layer(temp_marker)\n",
    "    except:\n",
    "        pass\n",
    "    #name = properties[\"geounit\"]\n",
    "    \n",
    "    id_ = properties[\"farm_id\"]\n",
    "    \n",
    "    species = properties[\"species\"]\n",
    "    if species == None:\n",
    "        species = properties[\"species 1\"]\n",
    "    species_label.value = f\"Species produced: {species}\"\n",
    "    \n",
    "    x = properties[\"coordinates\"][1]\n",
    "    y = properties[\"coordinates\"][0]\n",
    "    \n",
    "    message = HTML()\n",
    "    message.value = f\"Coordinates: ({np.round(x,2)}, {np.round(y,2)}) <br> Species: {species[species.find('(')+1:species.find(')')]}\"\n",
    "    popup = Popup(\n",
    "            location=(x, y),\n",
    "            child=message,\n",
    "            close_button=True,\n",
    "            auto_close=True,\n",
    "            close_on_escape_key=True,\n",
    "            max_width = 500,\n",
    "            name = \"Location info\"\n",
    "        )\n",
    "    \n",
    "    m.add_layer(popup)\n",
    "    \n",
    "geo_json_farms.on_click(marker_click_handler)\n",
    "geo_json_grid.on_click(grid_click_handler)\n",
    "\n",
    "m.add_layer(geo_json_Natura)\n",
    "m.add_layer(geo_json_grid)\n",
    "m.add_layer(geo_json_farms)\n",
    "\n",
    "control = LayersControl(position='topright')\n",
    "m.add_control(control)"
   ]
  },
  {
   "cell_type": "markdown",
   "metadata": {},
   "source": [
    "**Simulation GUI setup**"
   ]
  },
  {
   "cell_type": "code",
   "execution_count": 4,
   "metadata": {},
   "outputs": [
    {
     "data": {
      "application/vnd.jupyter.widget-view+json": {
       "model_id": "0a520c9a838a46d2a398093e2405a102",
       "version_major": 2,
       "version_minor": 0
      },
      "text/plain": [
       "HTML(value=\"<p style='font-size:24px'>Welcome to PERfeCt!</p>\\n                   <br> Instructions: Click on …"
      ]
     },
     "metadata": {},
     "output_type": "display_data"
    },
    {
     "data": {
      "application/vnd.jupyter.widget-view+json": {
       "model_id": "681d428e96874c01a58887d07c134b77",
       "version_major": 2,
       "version_minor": 0
      },
      "text/plain": [
       "Map(center=[40, 20], controls=(ZoomControl(options=['position', 'zoom_in_text', 'zoom_in_title', 'zoom_out_tex…"
      ]
     },
     "metadata": {},
     "output_type": "display_data"
    },
    {
     "data": {
      "application/vnd.jupyter.widget-view+json": {
       "model_id": "7cef0dd439df4e1898d17a34b08125e0",
       "version_major": 2,
       "version_minor": 0
      },
      "text/plain": [
       "Label(value='', layout=Layout(width='100%'))"
      ]
     },
     "metadata": {},
     "output_type": "display_data"
    },
    {
     "data": {
      "application/vnd.jupyter.widget-view+json": {
       "model_id": "3d2328ffa930451fba9e2d18e074d778",
       "version_major": 2,
       "version_minor": 0
      },
      "text/plain": [
       "Dropdown(description='Species:', options=('Argyrosomus_regius', 'Dentex_dentex', 'Dicentrarchus_labrax', 'Dipl…"
      ]
     },
     "metadata": {},
     "output_type": "display_data"
    },
    {
     "data": {
      "application/vnd.jupyter.widget-view+json": {
       "model_id": "71be3e0340324ca98a5ad7bc4a10d389",
       "version_major": 2,
       "version_minor": 0
      },
      "text/plain": [
       "RadioButtons(description='Scenario:', options=('RCP4.5', 'RCP8.5'), value='RCP4.5')"
      ]
     },
     "metadata": {},
     "output_type": "display_data"
    },
    {
     "data": {
      "application/vnd.jupyter.widget-view+json": {
       "model_id": "56cf3e32d00e45ffae719382c239122a",
       "version_major": 2,
       "version_minor": 0
      },
      "text/plain": [
       "Button(description='Simulate!', style=ButtonStyle())"
      ]
     },
     "metadata": {},
     "output_type": "display_data"
    },
    {
     "data": {
      "application/vnd.jupyter.widget-view+json": {
       "model_id": "fc5d151893394ae48cad84ef0870efcb",
       "version_major": 2,
       "version_minor": 0
      },
      "image/png": "[encoded data removed]",
      "text/html": [
       "\n",
       "            <div style=\"display: inline-block;\">\n",
       "                <div class=\"jupyter-widgets widget-label\" style=\"text-align: center;\">\n",
       "                    Figure\n",
       "                </div>\n",
       "                <img src='data:image/png;base64,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' width=1200.0/>\n",
       "            </div>\n",
       "        "
      ],
      "text/plain": [
       "Canvas(toolbar=Toolbar(toolitems=[('Home', 'Reset original view', 'home', 'home'), ('Back', 'Back to previous …"
      ]
     },
     "metadata": {},
     "output_type": "display_data"
    }
   ],
   "source": [
    "display(title_label)\n",
    "display(m)\n",
    "# Print results\n",
    "display(species_label)\n",
    "\n",
    "options = list(species_mi.keys())\n",
    "\n",
    "scenarios = [\"RCP4.5\", \"RCP8.5\"]\n",
    "\n",
    "dropdown = Dropdown(\n",
    "    options=options,\n",
    "    value = options[0],\n",
    "    description = \"Species:\",\n",
    "    disabled = False)\n",
    "\n",
    "radios = RadioButtons(\n",
    "    options=scenarios,\n",
    "    description=\"Scenario:\",\n",
    "    disabled=False\n",
    ")\n",
    "\n",
    "display(dropdown)\n",
    "display(radios)\n",
    "\n",
    "btn = Button(description=\"Simulate!\")\n",
    "out = Output()\n",
    "\n",
    "display(btn)\n",
    "\n",
    "\n",
    "max_y = 25\n",
    "\n",
    "x_data = np.arange(2022, 2022+max_y, 1)\n",
    "fig, ax = plt.subplots(nrows=1, ncols=3, figsize=(12, 6))\n",
    "stem1 = ax[0].stem(x_data, np.zeros(max_y))\n",
    "stem2 = ax[1].stem(x_data, np.zeros(max_y))\n",
    "stem3 = ax[2].stem(x_data, np.zeros(max_y))\n",
    "title1 = ax[0].set_title(\"Time to reach market size\")\n",
    "title2 = ax[1].set_title(\"Feed conversion ratio change\")\n",
    "title3 = ax[2].set_title(\"Vibriosis risk\")\n",
    "ax[0].set_ylim(-100, 100)\n",
    "ax[1].set_ylim(0, 10)\n",
    "ax[2].set_ylim(0, 10)\n",
    "fig.suptitle(\"Simulation results\")\n",
    "\n",
    "last_species = \"\"\n",
    "last_\n",
    "\n",
    "def update(change):\n",
    "    \n",
    "    \n",
    "    data_file = time_series_dir + f\"id_{id_}.csv\"\n",
    "    species = dropdown.value\n",
    "    \n",
    "    ttm45, ttm85, fcr45, fcr85 = perfect_sim(data_file, species, species_mi[species])\n",
    "    \n",
    "    vibrio45, vibrio85 = calc_DRV(data_file)\n",
    "\n",
    "    if radios.value == \"RCP4.5\":\n",
    "        y_data = ttm45[:max_y]-ttm45[0]\n",
    "        stem1[0].set_ydata(y_data)\n",
    "        stem1[1].set_paths(\n",
    "            [np.array([[xx, 0], [xx, yy]]) for (xx, yy) in zip(x_data, y_data)])\n",
    "        ax[0].set_ylim(np.min(y_data)-5, np.max(y_data)+5)\n",
    "        \n",
    "        y_data = ((fcr45[:max_y]/fcr45[0]) -1)*100\n",
    "        stem2[0].set_ydata(y_data)\n",
    "        stem2[1].set_paths(\n",
    "            [np.array([[xx, 0], [xx, yy]]) for (xx, yy) in zip(x_data, y_data)])\n",
    "        ax[1].set_ylim(np.min(y_data)-5, np.max(y_data)+5)\n",
    "        \n",
    "        y_data = (vibrio45[:max_y]-vibrio45[0])\n",
    "        stem3[0].set_ydata(y_data)\n",
    "        stem3[1].set_paths(\n",
    "            [np.array([[xx, 0], [xx, yy]]) for (xx, yy) in zip(x_data, y_data)])\n",
    "        ax[2].set_ylim(np.min(y_data)-5, np.max(y_data)+5)\n",
    "\n",
    "    if radios.value == \"RCP8.5\":\n",
    "        y_data = ttm85[:max_y]-ttm85[0]\n",
    "        stem1[0].set_ydata(ttm85[:30]-ttm85[0])\n",
    "        stem1[1].set_paths(\n",
    "            [np.array([[xx, 0], [xx, yy]]) for (xx, yy) in zip(x_data, y_data)])\n",
    "        ax[0].set_ylim(np.min(y_data)-5, np.max(y_data)+5)\n",
    "        \n",
    "        y_data = ((fcr85[:max_y]/fcr85[0]) -1)*100\n",
    "        stem2[0].set_ydata(y_data)\n",
    "        stem2[1].set_paths(\n",
    "            [np.array([[xx, 0], [xx, yy]]) for (xx, yy) in zip(x_data, y_data)])\n",
    "        ax[1].set_ylim(np.min(y_data)-5, np.max(y_data)+5)\n",
    "        \n",
    "        y_data = (vibrio85[:max_y]-vibrio85[0])\n",
    "        stem3[0].set_ydata(y_data)\n",
    "        stem3[1].set_paths(\n",
    "            [np.array([[xx, 0], [xx, yy]]) for (xx, yy) in zip(x_data, y_data)])\n",
    "        ax[2].set_ylim(np.min(y_data)-5, np.max(y_data)+5)\n",
    "        \n",
    "    ax[0].set_title(f\"Time to market size {dropdown.value}\")\n",
    "    ax[1].set_title(f\"Feed conversion ratio change\")\n",
    "    ax[2].set_title(f\"Vibriosis risk\")\n",
    "    fig.suptitle(f\"Simulation results for location ({np.round(x,2)}, {np.round(y,2)}) - {radios.value}\")\n",
    "    fig.canvas.draw()\n",
    "\n",
    "    # ttm45, ttm85, fcr45, fcr85 = perfect_sim(data_file, species, species_mi[species])\n",
    "    return\n",
    "\n",
    "\n",
    "\n",
    "btn.on_click(update)"
   ]
  }
 ],
 "metadata": {
  "interpreter": {
   "hash": "c9dea729eb3ee4cd7f07f186621811e52425eecfcfe1e8159534b887007bd691"
  },
  "kernelspec": {
   "display_name": "Python 3 (ipykernel)",
   "language": "python",
   "name": "python3"
  },
  "language_info": {
   "codemirror_mode": {
    "name": "ipython",
    "version": 3
   },
   "file_extension": ".py",
   "mimetype": "text/x-python",
   "name": "python",
   "nbconvert_exporter": "python",
   "pygments_lexer": "ipython3",
   "version": "3.9.10"
  }
 },
 "nbformat": 4,
 "nbformat_minor": 4
}

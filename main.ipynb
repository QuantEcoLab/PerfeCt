{
 "cells": [
  {
   "cell_type": "code",
   "execution_count": 1,
   "metadata": {},
   "outputs": [],
   "source": [
    "#%matplotlib inline\n",
    "%matplotlib widget\n",
    "from ipyleaflet import *\n",
    "import ipywidgets as widgets\n",
    "from ipywidgets import HTML, Layout, IntSlider, RadioButtons, Dropdown, Button, Output, Label\n",
    "from IPython.display import display\n",
    "import numpy as np\n",
    "import matplotlib.pyplot as plt\n",
    "import random\n",
    "import json\n",
    "import netCDF4 as nc\n",
    "\n",
    "# from deb.simulations import simulate_deb, plot_res, aux, fArr"
   ]
  },
  {
   "cell_type": "code",
   "execution_count": 2,
   "metadata": {},
   "outputs": [],
   "source": [
    "# Variable setup\n",
    "x, y = 0, 0\n",
    "dummy_num = 0\n",
    "with open('data/MED_farms/MED_farms_for_display.geojson', 'r') as f:\n",
    "    data = json.load(f)\n",
    "name = None"
   ]
  },
  {
   "cell_type": "code",
   "execution_count": 3,
   "metadata": {},
   "outputs": [],
   "source": [
    "# Map setup\n",
    "defaultLayout = Layout(width='1200px', height='500px')\n",
    "center = (40,20)\n",
    "icon = Icon(icon_url='', icon_size=[38, 95])\n",
    "m = Map(center=center,\n",
    "       basemap=basemaps.Esri.WorldImagery,\n",
    "        zoom=4,\n",
    "       layout=defaultLayout)\n",
    "\n",
    "species_label = Label(layout=Layout(width=\"100%\"))\n",
    "title_label = HTML(value = \"<p style='font-size:30px'>Welcome to PERfeCt!</p> <br> Select a location in the Mediterranean, then select a species and climate change scenario...\")\n",
    "\n",
    "def handle_map_click(**kwargs):\n",
    "    if kwargs.get('type') == 'click':\n",
    "        global x\n",
    "        global y\n",
    "        global dummy_num\n",
    "        global feature_clicked\n",
    "        global temp_marker\n",
    "        try:\n",
    "            m.remove_layer(temp_marker)\n",
    "        except:\n",
    "            pass\n",
    "        temp_marker = Marker(\n",
    "                location=kwargs.get('coordinates'),\n",
    "                icon=icon,\n",
    "                name=\"Location info\")           \n",
    "        #print(\"You clicked on: \", kwargs.get('coordinates'))\n",
    "               \n",
    "        x, y = kwargs.get('coordinates')\n",
    "        dummy_num += 1\n",
    "        message = HTML()\n",
    "        message.value = f\"Coordinates: ({np.round(x,2)}, {np.round(y,2)}) <br> Number: {dummy_num}\"\n",
    "        species_label.value = \"No aquaculture selected\"\n",
    "        popup = Popup(\n",
    "            location=(x, y),\n",
    "            child=message,\n",
    "            close_button=True,\n",
    "            auto_close=True,\n",
    "            close_on_escape_key=True,\n",
    "            max_width = 400,\n",
    "            name = \"Location info\"\n",
    "        )\n",
    "        m.add_layer(popup)\n",
    "        m.add_layer(temp_marker)\n",
    "        feature_clicked=False\n",
    "        \n",
    "m.on_interaction(handle_map_click)\n",
    "\n",
    "geo_json = GeoJSON(\n",
    "    data=data,\n",
    "    style = {\n",
    "        \"opacity\": 100},\n",
    "    name=\"Farm locations\"\n",
    ")\n",
    "\n",
    "def marker_click_handler(event=None, feature=None, id=None, properties=None):\n",
    "    global name\n",
    "    global feature_clicked\n",
    "    global dummy_num\n",
    "    feature_clicked=True\n",
    "    dummy_num += 1\n",
    "    try:\n",
    "        m.remove_layer(temp_marker)\n",
    "    except:\n",
    "        pass\n",
    "    #name = properties[\"geounit\"]\n",
    "    name = properties[\"species\"]\n",
    "    if name == None:\n",
    "        name = properties[\"species 1\"]\n",
    "    x = properties[\"coordinates\"][1]\n",
    "    y = properties[\"coordinates\"][0]\n",
    "    species_label.value = f\"Species: {name}\"\n",
    "    message = HTML()\n",
    "    message.value = f\"Coordinates: ({np.round(x,2)}, {np.round(y,2)}) <br> Species: {name[name.find('(')+1:name.find(')')]} <br> Number: {dummy_num}\"\n",
    "    popup = Popup(\n",
    "            location=(x, y),\n",
    "            child=message,\n",
    "            close_button=True,\n",
    "            auto_close=True,\n",
    "            close_on_escape_key=True,\n",
    "            max_width = 400,\n",
    "            name = \"Location info\"\n",
    "        )\n",
    "    m.add_layer(popup)\n",
    "\n",
    "geo_json.on_click(marker_click_handler)\n",
    "\n",
    "m.add_layer(geo_json)\n",
    "\n",
    "control = LayersControl(position='topright')\n",
    "m.add_control(control)\n"
   ]
  },
  {
   "cell_type": "code",
   "execution_count": 4,
   "metadata": {},
   "outputs": [
    {
     "data": {
      "application/vnd.jupyter.widget-view+json": {
       "model_id": "b662b8470d02451da543b1b5872997ce",
       "version_major": 2,
       "version_minor": 0
      },
      "text/plain": [
       "HTML(value=\"<p style='font-size:30px'>Welcome to PERfeCt!</p> <br> Click on any location in the Mediterranean,…"
      ]
     },
     "metadata": {},
     "output_type": "display_data"
    },
    {
     "data": {
      "application/vnd.jupyter.widget-view+json": {
       "model_id": "28f61919ae6240b4b3b549f038ae00ca",
       "version_major": 2,
       "version_minor": 0
      },
      "text/plain": [
       "Map(center=[40, 20], controls=(ZoomControl(options=['position', 'zoom_in_text', 'zoom_in_title', 'zoom_out_tex…"
      ]
     },
     "metadata": {},
     "output_type": "display_data"
    },
    {
     "data": {
      "application/vnd.jupyter.widget-view+json": {
       "model_id": "8a070f4ab10a4794800d225f619925a0",
       "version_major": 2,
       "version_minor": 0
      },
      "text/plain": [
       "Label(value='', layout=Layout(width='100%'))"
      ]
     },
     "metadata": {},
     "output_type": "display_data"
    },
    {
     "data": {
      "application/vnd.jupyter.widget-view+json": {
       "model_id": "0b7cfd0b6a224517a17036bac4fcaaa2",
       "version_major": 2,
       "version_minor": 0
      },
      "text/plain": [
       "Dropdown(description='Species:', options=('Argyrosomus_regius', 'Dentex_dentex', 'Dicentrarchus_labrax', 'Dipl…"
      ]
     },
     "metadata": {},
     "output_type": "display_data"
    },
    {
     "data": {
      "application/vnd.jupyter.widget-view+json": {
       "model_id": "650771edc4f743e6a422edf271c9cee7",
       "version_major": 2,
       "version_minor": 0
      },
      "text/plain": [
       "RadioButtons(description='Scenario:', options=('RCP4.5', 'RCP8.5'), value='RCP4.5')"
      ]
     },
     "metadata": {},
     "output_type": "display_data"
    },
    {
     "data": {
      "application/vnd.jupyter.widget-view+json": {
       "model_id": "36222346801846b1a6f7e8cecead412f",
       "version_major": 2,
       "version_minor": 0
      },
      "text/plain": [
       "Button(description='Simulate!', style=ButtonStyle())"
      ]
     },
     "metadata": {},
     "output_type": "display_data"
    },
    {
     "data": {
      "application/vnd.jupyter.widget-view+json": {
       "model_id": "b7930093c44240f0a25d9e5d25572dca",
       "version_major": 2,
       "version_minor": 0
      },
      "image/png": "[encoded data removed]",
      "text/html": [
       "\n",
       "            <div style=\"display: inline-block;\">\n",
       "                <div class=\"jupyter-widgets widget-label\" style=\"text-align: center;\">\n",
       "                    Figure\n",
       "                </div>\n",
       "                <img src='data:image/png;base64,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' width=1200.0/>\n",
       "            </div>\n",
       "        "
      ],
      "text/plain": [
       "Canvas(toolbar=Toolbar(toolitems=[('Home', 'Reset original view', 'home', 'home'), ('Back', 'Back to previous …"
      ]
     },
     "metadata": {},
     "output_type": "display_data"
    }
   ],
   "source": [
    "display(title_label)\n",
    "display(m)\n",
    "# Print results\n",
    "display(species_label)\n",
    "\n",
    "options = [\n",
    "    'Argyrosomus_regius',\n",
    "    'Dentex_dentex',\n",
    "    'Dicentrarchus_labrax',\n",
    "    'Diplodus_puntazzo',\n",
    "    'Diplodus_sargus',\n",
    "    'Diplodus_vulgaris',\n",
    "    'Lithognathus_mormyrus',\n",
    "    'Oncorhynchus_mykiss',\n",
    "    'Pagellus_erythrinus',\n",
    "    'Salmo_salar',\n",
    "    'Sarpa_salpa',\n",
    "    'Sciaena_umbra',\n",
    "    'Seriola_dumerili',\n",
    "    'Sparus_aurata',\n",
    "    'Thunnus_thynnus']\n",
    "\n",
    "scenarios = [\"RCP4.5\", \"RCP8.5\"]\n",
    "\n",
    "dropdown = Dropdown(\n",
    "    options=options,\n",
    "    value = options[0],\n",
    "    description = \"Species:\",\n",
    "    disabled = False)\n",
    "\n",
    "radios = RadioButtons(\n",
    "    options=scenarios,\n",
    "    description=\"Scenario:\",\n",
    "    disabled=False\n",
    ")\n",
    "\n",
    "display(dropdown)\n",
    "display(radios)\n",
    "\n",
    "btn = Button(description=\"Simulate!\")\n",
    "out = Output()\n",
    "\n",
    "\n",
    "fig, ax = plt.subplots(nrows=1, ncols=2, figsize=(12, 6))\n",
    "bar1 = ax[0].bar(np.arange(0, 30, 1), np.zeros(30))\n",
    "bar2 = ax[1].bar(np.arange(0, 30, 1), np.zeros(30))\n",
    "title1 = ax[0].set_title(\"Time to reach market size\")\n",
    "title2 = ax[1].set_title(\"Danger of vibriosis\")\n",
    "ax[0].set_ylim(0, 10)\n",
    "ax[1].set_ylim(0, 10)\n",
    "fig.suptitle(\"Simulation results\")\n",
    "\n",
    "\n",
    "def update(change):\n",
    "    for i in range(30):\n",
    "        bar1[i].set_height(np.random.randint(1, 10, 1))\n",
    "        bar2[i].set_height(np.random.randint(1, 10, 1))\n",
    "    ax[0].set_title(f\"Time to market size {dropdown.value} - {radios.value}\")\n",
    "    ax[1].set_title(f\"Danger of vibriosis - {radios.value}\")\n",
    "    fig.canvas.draw()\n",
    "    return\n",
    "\n",
    "\n",
    "#line1, = ax[0].plot(np.linspace(0,10), np.linspace(0,10))\n",
    "#line2, = ax[1].plot(np.linspace(0,10), np.linspace(0,10))\n",
    "\n",
    "\n",
    "def update1(change):\n",
    "    line1.set_ydata(np.random.randint(0, 10, 50))\n",
    "    line2.set_ydata(np.random.randint(0, 10, 50))\n",
    "    ax[0].set_title(f\"Time to market size {dropdown.value} - {radios.value}\")\n",
    "    ax[1].set_title(f\"Danger of vibriosis - {radios.value}\")\n",
    "    fig.canvas.draw()\n",
    "    return\n",
    "\n",
    "#radios.observe(update, \"value\")\n",
    "\n",
    "btn.on_click(update)\n",
    "\n",
    "display(btn)\n"
   ]
  },
  {
   "cell_type": "code",
   "execution_count": null,
   "metadata": {},
   "outputs": [],
   "source": []
  }
 ],
 "metadata": {
  "interpreter": {
   "hash": "c9dea729eb3ee4cd7f07f186621811e52425eecfcfe1e8159534b887007bd691"
  },
  "kernelspec": {
   "display_name": "Python 3 (ipykernel)",
   "language": "python",
   "name": "python3"
  },
  "language_info": {
   "codemirror_mode": {
    "name": "ipython",
    "version": 3
   },
   "file_extension": ".py",
   "mimetype": "text/x-python",
   "name": "python",
   "nbconvert_exporter": "python",
   "pygments_lexer": "ipython3",
   "version": "3.9.9"
  }
 },
 "nbformat": 4,
 "nbformat_minor": 4
}
